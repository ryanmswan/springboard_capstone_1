{
 "cells": [
  {
   "cell_type": "markdown",
   "metadata": {},
   "source": [
    "# Genre Prediction Using The Free Music Archive\n",
    "\n",
    "The rules for how music is organized can seem arbitrary. What causes one song to fall into one category versus another may change from grader to grader. Marketers may define a genre depending on what customers wish to purchase as a group, while musicologists may decide based on rhythmic features, and untrained fans may define genre based on the bands that sound the most similar to their favorites. But what is the feature content available for machine learning approaches to define these groups autonomously? \n",
    "\n",
    "In this analysis we use the Free Music Archive (FMA) to attempt genre classification of three genres (Rock, Electronic, and Experimental) using categorical and quantitative features made available from Librosa and EchoNest (now Spotify). "
   ]
  },
  {
   "cell_type": "code",
   "execution_count": 33,
   "metadata": {},
   "outputs": [],
   "source": [
    "import sqlite3\n",
    "import numpy as np\n",
    "import os\n",
    "import pandas as pd\n",
    "from matplotlib import pyplot as plt\n",
    "import seaborn as sns"
   ]
  },
  {
   "cell_type": "markdown",
   "metadata": {},
   "source": [
    "The FMA is organized around tracks as the central feature. Each track has information about the artist and the song represented. "
   ]
  },
  {
   "cell_type": "code",
   "execution_count": 34,
   "metadata": {},
   "outputs": [
    {
     "name": "stdout",
     "output_type": "stream",
     "text": [
      "(106574, 52)\n"
     ]
    }
   ],
   "source": [
    "tracks = pd.read_csv('../data/raw/fma_metadata/tracks.csv', index_col=0, header=[0,1])\n",
    "print(tracks.shape)"
   ]
  },
  {
   "cell_type": "markdown",
   "metadata": {},
   "source": [
    "## EDA and Data Integrity\n",
    "\n",
    "Before diving into the data set, we can perform some general checks on data integrity and get an idea which fields are the most incomplete, and therefore will be the most problematic for machine learning approaches."
   ]
  },
  {
   "cell_type": "markdown",
   "metadata": {},
   "source": [
    "### Missing Columns\n",
    "\n",
    "We first take a look at data completeness, assessing which columns are missing the most information."
   ]
  },
  {
   "cell_type": "code",
   "execution_count": 35,
   "metadata": {},
   "outputs": [
    {
     "data": {
      "image/png": "[encoded data removed]",
      "text/plain": [
       "<Figure size 432x288 with 1 Axes>"
      ]
     },
     "metadata": {
      "needs_background": "light"
     },
     "output_type": "display_data"
    }
   ],
   "source": [
    "# Get proportion of missing fields by column\n",
    "n_null = tracks.isnull().sum() / len(tracks)\n",
    "plt.hist(n_null)\n",
    "plt.xlabel('Proportion Missing Fields')\n",
    "plt.ylabel('Number of columns')\n",
    "plt.show()"
   ]
  },
  {
   "cell_type": "markdown",
   "metadata": {},
   "source": [
    "We can see that there are a number of fields missing 20% or more of their data. We can inspect the dataframe to find what specific columns are represented here."
   ]
  },
  {
   "cell_type": "code",
   "execution_count": 36,
   "metadata": {},
   "outputs": [
    {
     "name": "stdout",
     "output_type": "stream",
     "text": [
      "album   date_released        0.340421\n",
      "        engineer             0.856485\n",
      "        information          0.219800\n",
      "        producer             0.830540\n",
      "artist  active_year_begin    0.786899\n",
      "        active_year_end      0.949566\n",
      "        associated_labels    0.866093\n",
      "        bio                  0.332332\n",
      "        latitude             0.582037\n",
      "        location             0.341209\n",
      "        longitude            0.582037\n",
      "        members              0.560409\n",
      "        related_projects     0.876593\n",
      "        website              0.256329\n",
      "        wikipedia_page       0.947633\n",
      "track   composer             0.965564\n",
      "        date_recorded        0.942209\n",
      "        genre_top            0.534614\n",
      "        information          0.977959\n",
      "        language_code        0.859028\n",
      "        lyricist             0.997082\n",
      "        publisher            0.988149\n",
      "dtype: float64\n"
     ]
    }
   ],
   "source": [
    "high_miss = n_null[n_null > 0.20]\n",
    "print(high_miss)"
   ]
  },
  {
   "cell_type": "markdown",
   "metadata": {},
   "source": [
    "The most highly missing columns are specific string fields like `lyricist` and `publisher` or `bio`. However we do find some problematic columns that may complicate our analysis, including `genre_top`, which gives the top genre for the specified track. We can also see that roughly half of tracks are missing `longitude` and `latitude` data, which will impact geographical analysis."
   ]
  },
  {
   "cell_type": "markdown",
   "metadata": {},
   "source": [
    "### Row-wise Missingness"
   ]
  },
  {
   "cell_type": "markdown",
   "metadata": {},
   "source": [
    "We also wish to investigate the row-wise missingness to assess whether the missing fields are grouped within the same track. For example, it is possible that there is a subset of 50% of tracks missing 90% of fields. This will impact our data cleaning strategy."
   ]
  },
  {
   "cell_type": "code",
   "execution_count": 37,
   "metadata": {},
   "outputs": [
    {
     "data": {
      "image/png": "[encoded data removed]",
      "text/plain": [
       "<Figure size 432x288 with 1 Axes>"
      ]
     },
     "metadata": {
      "needs_background": "light"
     },
     "output_type": "display_data"
    }
   ],
   "source": [
    "isna_sum = lambda row: row.isna().sum()\n",
    "track_row_na = tracks.apply(isna_sum, axis=1)\n",
    "plt.hist(track_row_na)\n",
    "plt.xlabel('Number Missing Fields')\n",
    "plt.ylabel('Count')\n",
    "plt.show()"
   ]
  },
  {
   "cell_type": "markdown",
   "metadata": {},
   "source": [
    "From the histogram, we can see that most tracks are missing several fields. In fact, of the 52 fields included in the dataset, a mean of roughly 17 seem to be missing for any given track. The roughly normal distribution of data tells us that there does not appear to be a single group of fields missing in a large number of tracks. We can therefore conclude that from the identified 'high missingness' tracks above, a more or less random subset of those fields can be missing for any given track."
   ]
  },
  {
   "cell_type": "markdown",
   "metadata": {},
   "source": [
    "To further verify that this is the case, we can look at broad correlation between the data, we can consider the phi coefficient (also known as the matthews coefficient), a measure of correlation between binary variables. In effect, if two fields tend to be missing at the same time, they will have a high phi coefficient. The python package `sklearn` provides an implementation of the phi coefficient."
   ]
  },
  {
   "cell_type": "code",
   "execution_count": 38,
   "metadata": {},
   "outputs": [
    {
     "name": "stderr",
     "output_type": "stream",
     "text": [
      "/usr/local/lib/python3.7/site-packages/sklearn/metrics/_classification.py:900: RuntimeWarning: invalid value encountered in double_scalars\n",
      "  mcc = cov_ytyp / np.sqrt(cov_ytyt * cov_ypyp)\n"
     ]
    }
   ],
   "source": [
    "# Create dataframe representation with na values flagged as True\n",
    "na_grid = tracks.applymap(pd.isna)\n",
    "\n",
    "# Create dataframe with column labels\n",
    "from itertools import permutations\n",
    "combos = list(permutations(tracks.columns, 2))\n",
    "corr_df = pd.DataFrame(combos)\n",
    "\n",
    "# Use column labels to coordinate application of matthews_corrcoef\n",
    "from sklearn.metrics import matthews_corrcoef\n",
    "corr_vals = []\n",
    "for r in range(len(corr_df)):\n",
    "    fields = corr_df.iloc[r]\n",
    "    field1 = fields[0]\n",
    "    field2 = fields[1]\n",
    "    corr_val = matthews_corrcoef(na_grid[field1], na_grid[field2])\n",
    "    corr_vals.append(corr_val)\n",
    "corr_df['corr_val'] = corr_vals"
   ]
  },
  {
   "cell_type": "code",
   "execution_count": 39,
   "metadata": {},
   "outputs": [
    {
     "data": {
      "text/html": [
       "<div>\n",
       "<style scoped>\n",
       "    .dataframe tbody tr th:only-of-type {\n",
       "        vertical-align: middle;\n",
       "    }\n",
       "\n",
       "    .dataframe tbody tr th {\n",
       "        vertical-align: top;\n",
       "    }\n",
       "\n",
       "    .dataframe thead th {\n",
       "        text-align: right;\n",
       "    }\n",
       "</style>\n",
       "<table border=\"1\" class=\"dataframe\">\n",
       "  <thead>\n",
       "    <tr style=\"text-align: right;\">\n",
       "      <th></th>\n",
       "      <th>0</th>\n",
       "      <th>1</th>\n",
       "      <th>corr_val</th>\n",
       "    </tr>\n",
       "  </thead>\n",
       "  <tbody>\n",
       "    <tr>\n",
       "      <th>1194</th>\n",
       "      <td>(artist, longitude)</td>\n",
       "      <td>(artist, latitude)</td>\n",
       "      <td>1.000000</td>\n",
       "    </tr>\n",
       "    <tr>\n",
       "      <th>1093</th>\n",
       "      <td>(artist, latitude)</td>\n",
       "      <td>(artist, longitude)</td>\n",
       "      <td>1.000000</td>\n",
       "    </tr>\n",
       "    <tr>\n",
       "      <th>411</th>\n",
       "      <td>(album, producer)</td>\n",
       "      <td>(album, engineer)</td>\n",
       "      <td>0.768470</td>\n",
       "    </tr>\n",
       "    <tr>\n",
       "      <th>160</th>\n",
       "      <td>(album, engineer)</td>\n",
       "      <td>(album, producer)</td>\n",
       "      <td>0.768470</td>\n",
       "    </tr>\n",
       "    <tr>\n",
       "      <th>613</th>\n",
       "      <td>(album, type)</td>\n",
       "      <td>(album, date_created)</td>\n",
       "      <td>0.725658</td>\n",
       "    </tr>\n",
       "    <tr>\n",
       "      <th>62</th>\n",
       "      <td>(album, date_created)</td>\n",
       "      <td>(album, type)</td>\n",
       "      <td>0.725658</td>\n",
       "    </tr>\n",
       "    <tr>\n",
       "      <th>1092</th>\n",
       "      <td>(artist, latitude)</td>\n",
       "      <td>(artist, location)</td>\n",
       "      <td>0.588272</td>\n",
       "    </tr>\n",
       "    <tr>\n",
       "      <th>1195</th>\n",
       "      <td>(artist, longitude)</td>\n",
       "      <td>(artist, location)</td>\n",
       "      <td>0.588272</td>\n",
       "    </tr>\n",
       "    <tr>\n",
       "      <th>1144</th>\n",
       "      <td>(artist, location)</td>\n",
       "      <td>(artist, longitude)</td>\n",
       "      <td>0.588272</td>\n",
       "    </tr>\n",
       "    <tr>\n",
       "      <th>1143</th>\n",
       "      <td>(artist, location)</td>\n",
       "      <td>(artist, latitude)</td>\n",
       "      <td>0.588272</td>\n",
       "    </tr>\n",
       "    <tr>\n",
       "      <th>843</th>\n",
       "      <td>(artist, bio)</td>\n",
       "      <td>(artist, website)</td>\n",
       "      <td>0.538926</td>\n",
       "    </tr>\n",
       "    <tr>\n",
       "      <th>1444</th>\n",
       "      <td>(artist, website)</td>\n",
       "      <td>(artist, bio)</td>\n",
       "      <td>0.538926</td>\n",
       "    </tr>\n",
       "    <tr>\n",
       "      <th>511</th>\n",
       "      <td>(album, title)</td>\n",
       "      <td>(album, date_created)</td>\n",
       "      <td>0.532504</td>\n",
       "    </tr>\n",
       "    <tr>\n",
       "      <th>60</th>\n",
       "      <td>(album, date_created)</td>\n",
       "      <td>(album, title)</td>\n",
       "      <td>0.532504</td>\n",
       "    </tr>\n",
       "    <tr>\n",
       "      <th>1450</th>\n",
       "      <td>(artist, website)</td>\n",
       "      <td>(artist, location)</td>\n",
       "      <td>0.485648</td>\n",
       "    </tr>\n",
       "  </tbody>\n",
       "</table>\n",
       "</div>"
      ],
      "text/plain": [
       "                          0                      1  corr_val\n",
       "1194    (artist, longitude)     (artist, latitude)  1.000000\n",
       "1093     (artist, latitude)    (artist, longitude)  1.000000\n",
       "411       (album, producer)      (album, engineer)  0.768470\n",
       "160       (album, engineer)      (album, producer)  0.768470\n",
       "613           (album, type)  (album, date_created)  0.725658\n",
       "62    (album, date_created)          (album, type)  0.725658\n",
       "1092     (artist, latitude)     (artist, location)  0.588272\n",
       "1195    (artist, longitude)     (artist, location)  0.588272\n",
       "1144     (artist, location)    (artist, longitude)  0.588272\n",
       "1143     (artist, location)     (artist, latitude)  0.588272\n",
       "843           (artist, bio)      (artist, website)  0.538926\n",
       "1444      (artist, website)          (artist, bio)  0.538926\n",
       "511          (album, title)  (album, date_created)  0.532504\n",
       "60    (album, date_created)         (album, title)  0.532504\n",
       "1450      (artist, website)     (artist, location)  0.485648"
      ]
     },
     "execution_count": 39,
     "metadata": {},
     "output_type": "execute_result"
    }
   ],
   "source": [
    "corr_df.sort_values('corr_val', ascending=False)[:15]"
   ]
  },
  {
   "cell_type": "code",
   "execution_count": 40,
   "metadata": {},
   "outputs": [
    {
     "data": {
      "image/png": "[encoded data removed]",
      "text/plain": [
       "<Figure size 432x288 with 1 Axes>"
      ]
     },
     "metadata": {
      "needs_background": "light"
     },
     "output_type": "display_data"
    }
   ],
   "source": [
    "plt.hist(corr_df.corr_val)\n",
    "plt.xlabel('Phi Coefficient')\n",
    "plt.ylabel('Count')\n",
    "plt.show()"
   ]
  },
  {
   "cell_type": "markdown",
   "metadata": {},
   "source": [
    "From this analysis we can see a few simple trends. `latitude` and `longitude` both tend to be missing together, which makes sense, while the next most correlated missing fields are track metadata regarding production (`producer` and `engineer`) and associated album information (`type` and `date_created`). Importantly, from our histogram we don't see a great many of our classification-related fields are highly correlated."
   ]
  },
  {
   "cell_type": "markdown",
   "metadata": {},
   "source": [
    "## Filtering To The Most Relevant Data\n",
    "\n",
    "In order to perform our analysis, we can reduce to the specific columns we will need to perform our classification. Since we are primarily interested in the genre target classification for our first pass, we use this as a gate for inclusion of data points in our analysis."
   ]
  },
  {
   "cell_type": "markdown",
   "metadata": {},
   "source": [
    "### Genre Specification\n",
    "\n",
    "We can inspect the genres tagged by the FMA. From the cross tables we can observe that the archive is unbalanced, with some genres having far more associated tracks than others. Here we focus on the three most abundand genres: Rock, Experimental, and Electronic."
   ]
  },
  {
   "cell_type": "code",
   "execution_count": 9,
   "metadata": {},
   "outputs": [
    {
     "name": "stdout",
     "output_type": "stream",
     "text": [
      "Rock                   14182\n",
      "Experimental           10608\n",
      "Electronic              9372\n",
      "Hip-Hop                 3552\n",
      "Folk                    2803\n",
      "Pop                     2332\n",
      "Instrumental            2079\n",
      "International           1389\n",
      "Classical               1230\n",
      "Jazz                     571\n",
      "Old-Time / Historic      554\n",
      "Spoken                   423\n",
      "Country                  194\n",
      "Soul-RnB                 175\n",
      "Blues                    110\n",
      "Easy Listening            24\n",
      "Name: genre_top, dtype: int64\n"
     ]
    }
   ],
   "source": [
    "genre_counts = tracks.track.genre_top.value_counts()\n",
    "print(genre_counts)"
   ]
  },
  {
   "cell_type": "markdown",
   "metadata": {},
   "source": [
    "We can also observe that only half of the tracks have a `genre_top` designation."
   ]
  },
  {
   "cell_type": "code",
   "execution_count": 10,
   "metadata": {},
   "outputs": [
    {
     "name": "stdout",
     "output_type": "stream",
     "text": [
      "(106574, 52)\n",
      "49598\n"
     ]
    }
   ],
   "source": [
    "print(tracks.shape)\n",
    "print(genre_counts.sum())"
   ]
  },
  {
   "cell_type": "markdown",
   "metadata": {},
   "source": [
    "On closer inspection we can find that many of the tracks missing a `genre_top` value are represented in the `genres` and `genres_all` field, which links back to the `genre` table (also provided by the FMA). In future analyses, we can return to this data and attempt to identify tracks which can be considered linked to our genres investigated."
   ]
  },
  {
   "cell_type": "code",
   "execution_count": 11,
   "metadata": {},
   "outputs": [
    {
     "data": {
      "text/html": [
       "<div>\n",
       "<style scoped>\n",
       "    .dataframe tbody tr th:only-of-type {\n",
       "        vertical-align: middle;\n",
       "    }\n",
       "\n",
       "    .dataframe tbody tr th {\n",
       "        vertical-align: top;\n",
       "    }\n",
       "\n",
       "    .dataframe thead th {\n",
       "        text-align: right;\n",
       "    }\n",
       "</style>\n",
       "<table border=\"1\" class=\"dataframe\">\n",
       "  <thead>\n",
       "    <tr style=\"text-align: right;\">\n",
       "      <th></th>\n",
       "      <th>genre_top</th>\n",
       "      <th>genres</th>\n",
       "      <th>genres_all</th>\n",
       "    </tr>\n",
       "    <tr>\n",
       "      <th>track_id</th>\n",
       "      <th></th>\n",
       "      <th></th>\n",
       "      <th></th>\n",
       "    </tr>\n",
       "  </thead>\n",
       "  <tbody>\n",
       "    <tr>\n",
       "      <th>20</th>\n",
       "      <td>NaN</td>\n",
       "      <td>[76, 103]</td>\n",
       "      <td>[17, 10, 76, 103]</td>\n",
       "    </tr>\n",
       "    <tr>\n",
       "      <th>26</th>\n",
       "      <td>NaN</td>\n",
       "      <td>[76, 103]</td>\n",
       "      <td>[17, 10, 76, 103]</td>\n",
       "    </tr>\n",
       "    <tr>\n",
       "      <th>30</th>\n",
       "      <td>NaN</td>\n",
       "      <td>[76, 103]</td>\n",
       "      <td>[17, 10, 76, 103]</td>\n",
       "    </tr>\n",
       "    <tr>\n",
       "      <th>46</th>\n",
       "      <td>NaN</td>\n",
       "      <td>[76, 103]</td>\n",
       "      <td>[17, 10, 76, 103]</td>\n",
       "    </tr>\n",
       "    <tr>\n",
       "      <th>48</th>\n",
       "      <td>NaN</td>\n",
       "      <td>[76, 103]</td>\n",
       "      <td>[17, 10, 76, 103]</td>\n",
       "    </tr>\n",
       "    <tr>\n",
       "      <th>...</th>\n",
       "      <td>...</td>\n",
       "      <td>...</td>\n",
       "      <td>...</td>\n",
       "    </tr>\n",
       "    <tr>\n",
       "      <th>155276</th>\n",
       "      <td>NaN</td>\n",
       "      <td>[15, 32, 38]</td>\n",
       "      <td>[32, 38, 15]</td>\n",
       "    </tr>\n",
       "    <tr>\n",
       "      <th>155277</th>\n",
       "      <td>NaN</td>\n",
       "      <td>[15, 32, 38]</td>\n",
       "      <td>[32, 38, 15]</td>\n",
       "    </tr>\n",
       "    <tr>\n",
       "      <th>155278</th>\n",
       "      <td>NaN</td>\n",
       "      <td>[42, 107]</td>\n",
       "      <td>[42, 107, 1235, 15]</td>\n",
       "    </tr>\n",
       "    <tr>\n",
       "      <th>155288</th>\n",
       "      <td>NaN</td>\n",
       "      <td>[]</td>\n",
       "      <td>[]</td>\n",
       "    </tr>\n",
       "    <tr>\n",
       "      <th>155320</th>\n",
       "      <td>NaN</td>\n",
       "      <td>[10, 12, 169]</td>\n",
       "      <td>[169, 10, 12, 9]</td>\n",
       "    </tr>\n",
       "  </tbody>\n",
       "</table>\n",
       "<p>56976 rows × 3 columns</p>\n",
       "</div>"
      ],
      "text/plain": [
       "         genre_top         genres           genres_all\n",
       "track_id                                              \n",
       "20             NaN      [76, 103]    [17, 10, 76, 103]\n",
       "26             NaN      [76, 103]    [17, 10, 76, 103]\n",
       "30             NaN      [76, 103]    [17, 10, 76, 103]\n",
       "46             NaN      [76, 103]    [17, 10, 76, 103]\n",
       "48             NaN      [76, 103]    [17, 10, 76, 103]\n",
       "...            ...            ...                  ...\n",
       "155276         NaN   [15, 32, 38]         [32, 38, 15]\n",
       "155277         NaN   [15, 32, 38]         [32, 38, 15]\n",
       "155278         NaN      [42, 107]  [42, 107, 1235, 15]\n",
       "155288         NaN             []                   []\n",
       "155320         NaN  [10, 12, 169]     [169, 10, 12, 9]\n",
       "\n",
       "[56976 rows x 3 columns]"
      ]
     },
     "execution_count": 11,
     "metadata": {},
     "output_type": "execute_result"
    }
   ],
   "source": [
    "no_genre = tracks[tracks.track.genre_top.isna()]\n",
    "no_genre.track[['genre_top', 'genres','genres_all']]"
   ]
  },
  {
   "cell_type": "markdown",
   "metadata": {},
   "source": [
    "We isolate the tracks of the genres we are interested in. This will be our focus for classification."
   ]
  },
  {
   "cell_type": "code",
   "execution_count": 12,
   "metadata": {
    "scrolled": true
   },
   "outputs": [
    {
     "name": "stdout",
     "output_type": "stream",
     "text": [
      "Rock            14182\n",
      "Experimental    10608\n",
      "Electronic       9372\n",
      "Name: genre_top, dtype: int64\n"
     ]
    }
   ],
   "source": [
    "genre_tracks = tracks[tracks.track.genre_top.isin(['Rock','Experimental','Electronic'])]\n",
    "print(genre_tracks.track.genre_top.value_counts())"
   ]
  },
  {
   "cell_type": "markdown",
   "metadata": {},
   "source": [
    "## Computed Audio Features\n",
    "\n",
    "Since the features included from the librosa analysis are derived from a mathematical analysis, these features are complete in the data set with no missing values. These audio summary statistics will be a useful resource as we attempt to find a link between genre and song structure."
   ]
  },
  {
   "cell_type": "code",
   "execution_count": null,
   "metadata": {},
   "outputs": [],
   "source": []
  }
 ],
 "metadata": {
  "kernelspec": {
   "display_name": "Python 3",
   "language": "python",
   "name": "python3"
  },
  "language_info": {
   "codemirror_mode": {
    "name": "ipython",
    "version": 3
   },
   "file_extension": ".py",
   "mimetype": "text/x-python",
   "name": "python",
   "nbconvert_exporter": "python",
   "pygments_lexer": "ipython3",
   "version": "3.7.5"
  }
 },
 "nbformat": 4,
 "nbformat_minor": 2
}
