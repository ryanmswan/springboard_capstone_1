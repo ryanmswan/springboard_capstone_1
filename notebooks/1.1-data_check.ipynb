{
 "cells": [
  {
   "cell_type": "code",
   "execution_count": 1,
   "metadata": {},
   "outputs": [],
   "source": [
    "import sqlite3\n",
    "import numpy as np\n",
    "import os\n",
    "import pandas as pd\n",
    "from matplotlib import pyplot as plt"
   ]
  },
  {
   "cell_type": "markdown",
   "metadata": {},
   "source": [
    "# Reddit Database\n",
    "\n",
    "The Reddit Database contains roughly 1 billion comments with information regarding the subreddit they were intitially posted in, the post author, and the parent post, as well as a host of other information regarding metadata like score and summary features."
   ]
  },
  {
   "cell_type": "code",
   "execution_count": 2,
   "metadata": {},
   "outputs": [],
   "source": [
    "# conn = sqlite3.connect('/volumes/Media/DataSets/2015_reddit_comments_corpus_sqlite/reddit_data.db')\n",
    "# reddit = pd.read_sql_query('SELECT * FROM comment LIMIT 10000', conn)\n",
    "# print(reddit.head())\n",
    "# cursor.execute('SELECT COUNT(*) FROM comment') # Painfully slow to run; approx 1 billion rows"
   ]
  },
  {
   "cell_type": "markdown",
   "metadata": {},
   "source": [
    "# Free Music Archive\n",
    "\n",
    "[The Free Music Archive](https://github.com/mdeff/fma) contains metadata and 30 second clips of over 100,000 tracks."
   ]
  },
  {
   "cell_type": "markdown",
   "metadata": {},
   "source": [
    "## Tracks"
   ]
  },
  {
   "cell_type": "code",
   "execution_count": 3,
   "metadata": {},
   "outputs": [
    {
     "name": "stderr",
     "output_type": "stream",
     "text": [
      "/usr/local/lib/python3.7/site-packages/IPython/core/interactiveshell.py:3058: DtypeWarning: Columns (0) have mixed types.Specify dtype option on import or set low_memory=False.\n",
      "  interactivity=interactivity, compiler=compiler, result=result)\n"
     ]
    }
   ],
   "source": [
    "# Tracks table\n",
    "tracks = pd.read_csv('../data/raw/fma_metadata/tracks.csv',header=1)"
   ]
  },
  {
   "cell_type": "code",
   "execution_count": 4,
   "metadata": {},
   "outputs": [
    {
     "name": "stdout",
     "output_type": "stream",
     "text": [
      "(106575, 53)\n"
     ]
    }
   ],
   "source": [
    "print(tracks.shape)"
   ]
  },
  {
   "cell_type": "code",
   "execution_count": 5,
   "metadata": {},
   "outputs": [
    {
     "name": "stdout",
     "output_type": "stream",
     "text": [
      "Index(['Unnamed: 0', 'comments', 'date_created', 'date_released', 'engineer',\n",
      "       'favorites', 'id', 'information', 'listens', 'producer', 'tags',\n",
      "       'title', 'tracks', 'type', 'active_year_begin', 'active_year_end',\n",
      "       'associated_labels', 'bio', 'comments.1', 'date_created.1',\n",
      "       'favorites.1', 'id.1', 'latitude', 'location', 'longitude', 'members',\n",
      "       'name', 'related_projects', 'tags.1', 'website', 'wikipedia_page',\n",
      "       'split', 'subset', 'bit_rate', 'comments.2', 'composer',\n",
      "       'date_created.2', 'date_recorded', 'duration', 'favorites.2',\n",
      "       'genre_top', 'genres', 'genres_all', 'information.1', 'interest',\n",
      "       'language_code', 'license', 'listens.1', 'lyricist', 'number',\n",
      "       'publisher', 'tags.2', 'title.1'],\n",
      "      dtype='object')\n"
     ]
    }
   ],
   "source": [
    "print(tracks.columns)"
   ]
  },
  {
   "cell_type": "code",
   "execution_count": 6,
   "metadata": {},
   "outputs": [
    {
     "name": "stdout",
     "output_type": "stream",
     "text": [
      "  Unnamed: 0  comments         date_created        date_released engineer  \\\n",
      "0   track_id       NaN                  NaN                  NaN      NaN   \n",
      "1          2       0.0  2008-11-26 01:44:45  2009-01-05 00:00:00      NaN   \n",
      "2          3       0.0  2008-11-26 01:44:45  2009-01-05 00:00:00      NaN   \n",
      "3          5       0.0  2008-11-26 01:44:45  2009-01-05 00:00:00      NaN   \n",
      "4         10       0.0  2008-11-26 01:45:08  2008-02-06 00:00:00      NaN   \n",
      "\n",
      "   favorites   id information  listens producer  ... information.1 interest  \\\n",
      "0        NaN  NaN         NaN      NaN      NaN  ...           NaN      NaN   \n",
      "1        4.0  1.0     <p></p>   6073.0      NaN  ...           NaN   4656.0   \n",
      "2        4.0  1.0     <p></p>   6073.0      NaN  ...           NaN   1470.0   \n",
      "3        4.0  1.0     <p></p>   6073.0      NaN  ...           NaN   1933.0   \n",
      "4        4.0  6.0         NaN  47632.0      NaN  ...           NaN  54881.0   \n",
      "\n",
      "   language_code                                            license listens.1  \\\n",
      "0            NaN                                                NaN       NaN   \n",
      "1             en  Attribution-NonCommercial-ShareAlike 3.0 Inter...    1293.0   \n",
      "2             en  Attribution-NonCommercial-ShareAlike 3.0 Inter...     514.0   \n",
      "3             en  Attribution-NonCommercial-ShareAlike 3.0 Inter...    1151.0   \n",
      "4             en  Attribution-NonCommercial-NoDerivatives (aka M...   50135.0   \n",
      "\n",
      "  lyricist number publisher  tags.2       title.1  \n",
      "0      NaN    NaN       NaN     NaN           NaN  \n",
      "1      NaN    3.0       NaN      []          Food  \n",
      "2      NaN    4.0       NaN      []  Electric Ave  \n",
      "3      NaN    6.0       NaN      []    This World  \n",
      "4      NaN    1.0       NaN      []       Freeway  \n",
      "\n",
      "[5 rows x 53 columns]\n"
     ]
    }
   ],
   "source": [
    "print(tracks.head())"
   ]
  },
  {
   "cell_type": "code",
   "execution_count": 7,
   "metadata": {},
   "outputs": [
    {
     "data": {
      "image/png": "[encoded data removed]",
      "text/plain": [
       "<Figure size 288x288 with 1 Axes>"
      ]
     },
     "metadata": {
      "needs_background": "light"
     },
     "output_type": "display_data"
    }
   ],
   "source": [
    "na_grid = tracks.applymap(pd.isna)\n",
    "plt.matshow(na_grid.corr())\n",
    "plt.xlabel('field number')\n",
    "plt.title('Correlation of Missing Values')\n",
    "plt.show()"
   ]
  },
  {
   "cell_type": "code",
   "execution_count": 8,
   "metadata": {},
   "outputs": [],
   "source": [
    "row_na = na_grid.apply(sum, axis=1)"
   ]
  },
  {
   "cell_type": "code",
   "execution_count": 9,
   "metadata": {},
   "outputs": [
    {
     "data": {
      "image/png": "[encoded data removed]",
      "text/plain": [
       "<Figure size 432x288 with 1 Axes>"
      ]
     },
     "metadata": {
      "needs_background": "light"
     },
     "output_type": "display_data"
    }
   ],
   "source": [
    "plt.hist(row_na)\n",
    "plt.xlabel('Number Missing Fields')\n",
    "plt.ylabel('Count')\n",
    "plt.title('Number of missing fields calculated by row')\n",
    "plt.show()"
   ]
  },
  {
   "cell_type": "code",
   "execution_count": 10,
   "metadata": {},
   "outputs": [
    {
     "data": {
      "image/png": "[encoded data removed]",
      "text/plain": [
       "<Figure size 432x288 with 1 Axes>"
      ]
     },
     "metadata": {
      "needs_background": "light"
     },
     "output_type": "display_data"
    }
   ],
   "source": [
    "col_na = na_grid.apply(sum, axis=0)\n",
    "plt.hist(col_na)\n",
    "plt.xlabel('Number Missing Fields')\n",
    "plt.ylabel('Count')\n",
    "plt.title('Number of missing fields calculated by columns')\n",
    "plt.show()"
   ]
  },
  {
   "cell_type": "code",
   "execution_count": 11,
   "metadata": {},
   "outputs": [],
   "source": [
    "# Define class to produce these plots reliably\n",
    "class NaAnalysis:\n",
    "    def __init__(self, df):\n",
    "        self.na_grid = df.applymap(pd.isna)\n",
    "        self.row_na = self.na_grid.apply(sum, axis=1)\n",
    "        self.col_na = self.na_grid.apply(sum, axis=0)\n",
    "    def corr_plot(self):\n",
    "        # Correlation plot\n",
    "        plt.matshow(self.na_grid.corr())\n",
    "        plt.xlabel('field number')\n",
    "        plt.title('Correlation of Missing Values')\n",
    "        plt.show()\n",
    "    def row_plot(self):\n",
    "        # Row Histogram\n",
    "        plt.hist(self.row_na)\n",
    "        plt.xlabel('Number Missing Fields')\n",
    "        plt.ylabel('Count')\n",
    "        plt.title('Number of missing fields calculated by row')\n",
    "        plt.show()\n",
    "    def col_plot(self):\n",
    "        # Col Histogram\n",
    "        plt.hist(self.col_na)\n",
    "        plt.xlabel('Number Missing Fields')\n",
    "        plt.ylabel('Count')\n",
    "        plt.title('Number of missing fields calculated by columns')\n",
    "        plt.show()\n",
    "    def run_analysis(self):\n",
    "        self.corr_plot()\n",
    "        self.row_plot()\n",
    "        self.col_plot()"
   ]
  },
  {
   "cell_type": "code",
   "execution_count": 12,
   "metadata": {},
   "outputs": [
    {
     "data": {
      "image/png": "[encoded data removed]",
      "text/plain": [
       "<Figure size 288x288 with 1 Axes>"
      ]
     },
     "metadata": {
      "needs_background": "light"
     },
     "output_type": "display_data"
    },
    {
     "data": {
      "image/png": "[encoded data removed]",
      "text/plain": [
       "<Figure size 432x288 with 1 Axes>"
      ]
     },
     "metadata": {
      "needs_background": "light"
     },
     "output_type": "display_data"
    },
    {
     "data": {
      "image/png": "[encoded data removed]",
      "text/plain": [
       "<Figure size 432x288 with 1 Axes>"
      ]
     },
     "metadata": {
      "needs_background": "light"
     },
     "output_type": "display_data"
    }
   ],
   "source": [
    "tracks_na = NaAnalysis(tracks)\n",
    "tracks_na.run_analysis()"
   ]
  },
  {
   "cell_type": "markdown",
   "metadata": {},
   "source": [
    "## Genres"
   ]
  },
  {
   "cell_type": "code",
   "execution_count": 13,
   "metadata": {},
   "outputs": [],
   "source": [
    "# Genres Table\n",
    "genres = pd.read_csv('~/Downloads/fma_metadata/genres.csv',header=0)"
   ]
  },
  {
   "cell_type": "code",
   "execution_count": 34,
   "metadata": {},
   "outputs": [
    {
     "name": "stdout",
     "output_type": "stream",
     "text": [
      "(163, 5)\n"
     ]
    },
    {
     "data": {
      "image/png": "[encoded data removed]",
      "text/plain": [
       "<Figure size 432x288 with 1 Axes>"
      ]
     },
     "metadata": {
      "needs_background": "light"
     },
     "output_type": "display_data"
    }
   ],
   "source": [
    "print(genres.shape)\n",
    "plt.hist(genres['#tracks'], bins=100)\n",
    "plt.show()"
   ]
  },
  {
   "cell_type": "code",
   "execution_count": 15,
   "metadata": {},
   "outputs": [
    {
     "name": "stdout",
     "output_type": "stream",
     "text": [
      "Index(['genre_id', '#tracks', 'parent', 'title', 'top_level'], dtype='object')\n"
     ]
    }
   ],
   "source": [
    "print(genres.columns)"
   ]
  },
  {
   "cell_type": "code",
   "execution_count": 37,
   "metadata": {},
   "outputs": [
    {
     "name": "stdout",
     "output_type": "stream",
     "text": [
      "    genre_id  #tracks  parent                   title  top_level\n",
      "0          1     8693      38             Avant-Garde         38\n",
      "1          2     5271       0           International          2\n",
      "2          3     1752       0                   Blues          3\n",
      "3          4     4126       0                    Jazz          4\n",
      "4          5     4106       0               Classical          5\n",
      "..       ...      ...     ...                     ...        ...\n",
      "95       186      682      38            Sound Poetry         38\n",
      "96       187      292       5  20th Century Classical          5\n",
      "97       188      301      20                  Poetry         20\n",
      "98       189       26      65              Talk Radio         20\n",
      "99       214       40      92           North African          2\n",
      "\n",
      "[100 rows x 5 columns]\n"
     ]
    }
   ],
   "source": [
    "print(genres.head(100))"
   ]
  },
  {
   "cell_type": "code",
   "execution_count": 17,
   "metadata": {},
   "outputs": [
    {
     "name": "stderr",
     "output_type": "stream",
     "text": [
      "/usr/local/lib/python3.7/site-packages/matplotlib/image.py:397: UserWarning: Warning: converting a masked element to nan.\n",
      "  dv = (np.float64(self.norm.vmax) -\n",
      "/usr/local/lib/python3.7/site-packages/matplotlib/image.py:398: UserWarning: Warning: converting a masked element to nan.\n",
      "  np.float64(self.norm.vmin))\n",
      "/usr/local/lib/python3.7/site-packages/matplotlib/image.py:405: UserWarning: Warning: converting a masked element to nan.\n",
      "  a_min = np.float64(newmin)\n",
      "/usr/local/lib/python3.7/site-packages/matplotlib/image.py:410: UserWarning: Warning: converting a masked element to nan.\n",
      "  a_max = np.float64(newmax)\n",
      "<string>:6: UserWarning: Warning: converting a masked element to nan.\n",
      "/usr/local/lib/python3.7/site-packages/numpy/ma/core.py:711: UserWarning: Warning: converting a masked element to nan.\n",
      "  data = np.array(a, copy=False, subok=subok)\n"
     ]
    },
    {
     "data": {
      "image/png": "[encoded data removed]",
      "text/plain": [
       "<Figure size 288x288 with 1 Axes>"
      ]
     },
     "metadata": {
      "needs_background": "light"
     },
     "output_type": "display_data"
    },
    {
     "data": {
      "image/png": "[encoded data removed]",
      "text/plain": [
       "<Figure size 432x288 with 1 Axes>"
      ]
     },
     "metadata": {
      "needs_background": "light"
     },
     "output_type": "display_data"
    },
    {
     "data": {
      "image/png": "[encoded data removed]",
      "text/plain": [
       "<Figure size 432x288 with 1 Axes>"
      ]
     },
     "metadata": {
      "needs_background": "light"
     },
     "output_type": "display_data"
    }
   ],
   "source": [
    "genres_na = NaAnalysis(genres)\n",
    "genres_na.run_analysis()"
   ]
  },
  {
   "cell_type": "markdown",
   "metadata": {},
   "source": [
    "## Features"
   ]
  },
  {
   "cell_type": "code",
   "execution_count": 12,
   "metadata": {},
   "outputs": [],
   "source": [
    "# Features Table\n",
    "features = pd.read_csv('../data/raw/fma_metadata/features.csv',header=2,nrows=1000)"
   ]
  },
  {
   "cell_type": "code",
   "execution_count": 19,
   "metadata": {},
   "outputs": [
    {
     "name": "stdout",
     "output_type": "stream",
     "text": [
      "(1000, 519)\n"
     ]
    }
   ],
   "source": [
    "print(features.shape)"
   ]
  },
  {
   "cell_type": "code",
   "execution_count": 20,
   "metadata": {},
   "outputs": [
    {
     "name": "stdout",
     "output_type": "stream",
     "text": [
      "['number', '01', '02', '03', '04', '05', '06', '07', '08', '09', '10', '11', '12', '01.1', '02.1', '03.1', '04.1', '05.1', '06.1', '07.1', '08.1', '09.1', '10.1', '11.1', '12.1', '01.2', '02.2', '03.2', '04.2', '05.2', '06.2', '07.2', '08.2', '09.2', '10.2', '11.2', '12.2', '01.3', '02.3', '03.3', '04.3', '05.3', '06.3', '07.3', '08.3', '09.3', '10.3', '11.3', '12.3', '01.4', '02.4', '03.4', '04.4', '05.4', '06.4', '07.4', '08.4', '09.4', '10.4', '11.4', '12.4', '01.5', '02.5', '03.5', '04.5', '05.5', '06.5', '07.5', '08.5', '09.5', '10.5', '11.5', '12.5', '01.6', '02.6', '03.6', '04.6', '05.6', '06.6', '07.6', '08.6', '09.6', '10.6', '11.6', '12.6', '01.7', '02.7', '03.7', '04.7', '05.7', '06.7', '07.7', '08.7', '09.7', '10.7', '11.7', '12.7', '01.8', '02.8', '03.8', '04.8', '05.8', '06.8', '07.8', '08.8', '09.8', '10.8', '11.8', '12.8', '01.9', '02.9', '03.9', '04.9', '05.9', '06.9', '07.9', '08.9', '09.9', '10.9', '11.9', '12.9', '01.10', '02.10', '03.10', '04.10', '05.10', '06.10', '07.10', '08.10', '09.10', '10.10', '11.10', '12.10', '01.11', '02.11', '03.11', '04.11', '05.11', '06.11', '07.11', '08.11', '09.11', '10.11', '11.11', '12.11', '01.12', '02.12', '03.12', '04.12', '05.12', '06.12', '07.12', '08.12', '09.12', '10.12', '11.12', '12.12', '01.13', '02.13', '03.13', '04.13', '05.13', '06.13', '07.13', '08.13', '09.13', '10.13', '11.13', '12.13', '01.14', '02.14', '03.14', '04.14', '05.14', '06.14', '07.14', '08.14', '09.14', '10.14', '11.14', '12.14', '01.15', '02.15', '03.15', '04.15', '05.15', '06.15', '07.15', '08.15', '09.15', '10.15', '11.15', '12.15', '01.16', '02.16', '03.16', '04.16', '05.16', '06.16', '07.16', '08.16', '09.16', '10.16', '11.16', '12.16', '01.17', '02.17', '03.17', '04.17', '05.17', '06.17', '07.17', '08.17', '09.17', '10.17', '11.17', '12.17', '01.18', '02.18', '03.18', '04.18', '05.18', '06.18', '07.18', '08.18', '09.18', '10.18', '11.18', '12.18', '01.19', '02.19', '03.19', '04.19', '05.19', '06.19', '07.19', '08.19', '09.19', '10.19', '11.19', '12.19', '01.20', '02.20', '03.20', '04.20', '05.20', '06.20', '07.20', '08.20', '09.20', '10.20', '11.20', '12.20', '01.21', '02.21', '03.21', '04.21', '05.21', '06.21', '07.21', '08.21', '09.21', '10.21', '11.21', '12.21', '13', '14', '15', '16', '17', '18', '19', '20', '01.22', '02.22', '03.22', '04.22', '05.22', '06.22', '07.22', '08.22', '09.22', '10.22', '11.22', '12.22', '13.1', '14.1', '15.1', '16.1', '17.1', '18.1', '19.1', '20.1', '01.23', '02.23', '03.23', '04.23', '05.23', '06.23', '07.23', '08.23', '09.23', '10.23', '11.23', '12.23', '13.2', '14.2', '15.2', '16.2', '17.2', '18.2', '19.2', '20.2', '01.24', '02.24', '03.24', '04.24', '05.24', '06.24', '07.24', '08.24', '09.24', '10.24', '11.24', '12.24', '13.3', '14.3', '15.3', '16.3', '17.3', '18.3', '19.3', '20.3', '01.25', '02.25', '03.25', '04.25', '05.25', '06.25', '07.25', '08.25', '09.25', '10.25', '11.25', '12.25', '13.4', '14.4', '15.4', '16.4', '17.4', '18.4', '19.4', '20.4', '01.26', '02.26', '03.26', '04.26', '05.26', '06.26', '07.26', '08.26', '09.26', '10.26', '11.26', '12.26', '13.5', '14.5', '15.5', '16.5', '17.5', '18.5', '19.5', '20.5', '01.27', '02.27', '03.27', '04.27', '05.27', '06.27', '07.27', '08.27', '09.27', '10.27', '11.27', '12.27', '13.6', '14.6', '15.6', '16.6', '17.6', '18.6', '19.6', '20.6', '01.28', '01.29', '01.30', '01.31', '01.32', '01.33', '01.34', '01.35', '01.36', '01.37', '01.38', '01.39', '01.40', '01.41', '01.42', '01.43', '01.44', '01.45', '01.46', '01.47', '01.48', '01.49', '02.28', '03.28', '04.28', '05.28', '06.28', '07.28', '01.50', '02.29', '03.29', '04.29', '05.29', '06.29', '07.29', '01.51', '02.30', '03.30', '04.30', '05.30', '06.30', '07.30', '01.52', '02.31', '03.31', '04.31', '05.31', '06.31', '07.31', '01.53', '02.32', '03.32', '04.32', '05.32', '06.32', '07.32', '01.54', '02.33', '03.33', '04.33', '05.33', '06.33', '07.33', '01.55', '02.34', '03.34', '04.34', '05.34', '06.34', '07.34', '01.56', '01.57', '01.58', '01.59', '01.60', '01.61', '01.62', '01.63', '02.35', '03.35', '04.35', '05.35', '06.35', '01.64', '02.36', '03.36', '04.36', '05.36', '06.36', '01.65', '02.37', '03.37', '04.37', '05.37', '06.37', '01.66', '02.38', '03.38', '04.38', '05.38', '06.38', '01.67', '02.39', '03.39', '04.39', '05.39', '06.39', '01.68', '02.40', '03.40', '04.40', '05.40', '06.40', '01.69', '02.41', '03.41', '04.41', '05.41', '06.41', '01.70', '01.71', '01.72', '01.73', '01.74', '01.75', '01.76']\n"
     ]
    }
   ],
   "source": [
    "print(list(features.columns))"
   ]
  },
  {
   "cell_type": "code",
   "execution_count": 21,
   "metadata": {},
   "outputs": [
    {
     "name": "stdout",
     "output_type": "stream",
     "text": [
      "     number        01        02        03        04        05        06  \\\n",
      "0  track_id       NaN       NaN       NaN       NaN       NaN       NaN   \n",
      "1         2  7.180653  5.230309  0.249321  1.347620  1.482478  0.531371   \n",
      "2         3  1.888963  0.760539  0.345297  2.295201  1.654031  0.067592   \n",
      "3         5  0.527563 -0.077654 -0.279610  0.685883  1.937570  0.880839   \n",
      "4        10  3.702245 -0.291193  2.196742 -0.234449  1.367364  0.998411   \n",
      "\n",
      "         07        08        09  ...     04.41     05.41     06.41      01.70  \\\n",
      "0       NaN       NaN       NaN  ...       NaN       NaN       NaN        NaN   \n",
      "1  1.481593  2.691455  0.866868  ...  0.054125  0.012226  0.012111   5.758890   \n",
      "2  1.366848  1.054094  0.108103  ...  0.063831  0.014212  0.017740   2.824694   \n",
      "3 -0.923192 -0.927232  0.666617  ...  0.040730  0.012691  0.014759   6.808415   \n",
      "4  1.770694  1.604566  0.521217  ...  0.074358  0.017952  0.013921  21.434212   \n",
      "\n",
      "      01.71     01.72     01.73  01.74     01.75     01.76  \n",
      "0       NaN       NaN       NaN    NaN       NaN       NaN  \n",
      "1  0.459473  0.085629  0.071289    0.0  2.089872  0.061448  \n",
      "2  0.466309  0.084578  0.063965    0.0  1.716724  0.069330  \n",
      "3  0.375000  0.053114  0.041504    0.0  2.193303  0.044861  \n",
      "4  0.452148  0.077515  0.071777    0.0  3.542325  0.040800  \n",
      "\n",
      "[5 rows x 519 columns]\n"
     ]
    }
   ],
   "source": [
    "print(features.head())"
   ]
  },
  {
   "cell_type": "code",
   "execution_count": 22,
   "metadata": {},
   "outputs": [
    {
     "data": {
      "image/png": "[encoded data removed]",
      "text/plain": [
       "<Figure size 288x288 with 1 Axes>"
      ]
     },
     "metadata": {
      "needs_background": "light"
     },
     "output_type": "display_data"
    },
    {
     "data": {
      "image/png": "[encoded data removed]",
      "text/plain": [
       "<Figure size 432x288 with 1 Axes>"
      ]
     },
     "metadata": {
      "needs_background": "light"
     },
     "output_type": "display_data"
    },
    {
     "data": {
      "image/png": "[encoded data removed]",
      "text/plain": [
       "<Figure size 432x288 with 1 Axes>"
      ]
     },
     "metadata": {
      "needs_background": "light"
     },
     "output_type": "display_data"
    }
   ],
   "source": [
    "features_na = NaAnalysis(features)\n",
    "features_na.run_analysis()"
   ]
  },
  {
   "cell_type": "code",
   "execution_count": 23,
   "metadata": {},
   "outputs": [
    {
     "name": "stdout",
     "output_type": "stream",
     "text": [
      "number    0\n",
      "01.26     1\n",
      "20.4      1\n",
      "19.4      1\n",
      "18.4      1\n",
      "         ..\n",
      "09.13     1\n",
      "08.13     1\n",
      "07.13     1\n",
      "01.16     1\n",
      "01.76     1\n",
      "Length: 519, dtype: int64\n"
     ]
    }
   ],
   "source": [
    "print(features_na.col_na.sort_values())"
   ]
  },
  {
   "cell_type": "markdown",
   "metadata": {},
   "source": [
    "## Echonest"
   ]
  },
  {
   "cell_type": "code",
   "execution_count": 13,
   "metadata": {},
   "outputs": [
    {
     "name": "stderr",
     "output_type": "stream",
     "text": [
      "/usr/local/lib/python3.7/site-packages/IPython/core/interactiveshell.py:3058: DtypeWarning: Columns (0) have mixed types.Specify dtype option on import or set low_memory=False.\n",
      "  interactivity=interactivity, compiler=compiler, result=result)\n"
     ]
    }
   ],
   "source": [
    "# Echonest Table\n",
    "echonest = pd.read_csv('../data/raw/fma_metadata/echonest.csv',header=2)"
   ]
  },
  {
   "cell_type": "code",
   "execution_count": 25,
   "metadata": {},
   "outputs": [
    {
     "name": "stdout",
     "output_type": "stream",
     "text": [
      "(13130, 250)\n"
     ]
    }
   ],
   "source": [
    "print(echonest.shape)"
   ]
  },
  {
   "cell_type": "code",
   "execution_count": 26,
   "metadata": {},
   "outputs": [
    {
     "name": "stdout",
     "output_type": "stream",
     "text": [
      "['Unnamed: 0', 'acousticness', 'danceability', 'energy', 'instrumentalness', 'liveness', 'speechiness', 'tempo', 'valence', 'album_date', 'album_name', 'artist_latitude', 'artist_location', 'artist_longitude', 'artist_name', 'release', 'artist_discovery_rank', 'artist_familiarity_rank', 'artist_hotttnesss_rank', 'song_currency_rank', 'song_hotttnesss_rank', 'artist_discovery', 'artist_familiarity', 'artist_hotttnesss', 'song_currency', 'song_hotttnesss', '000', '001', '002', '003', '004', '005', '006', '007', '008', '009', '010', '011', '012', '013', '014', '015', '016', '017', '018', '019', '020', '021', '022', '023', '024', '025', '026', '027', '028', '029', '030', '031', '032', '033', '034', '035', '036', '037', '038', '039', '040', '041', '042', '043', '044', '045', '046', '047', '048', '049', '050', '051', '052', '053', '054', '055', '056', '057', '058', '059', '060', '061', '062', '063', '064', '065', '066', '067', '068', '069', '070', '071', '072', '073', '074', '075', '076', '077', '078', '079', '080', '081', '082', '083', '084', '085', '086', '087', '088', '089', '090', '091', '092', '093', '094', '095', '096', '097', '098', '099', '100', '101', '102', '103', '104', '105', '106', '107', '108', '109', '110', '111', '112', '113', '114', '115', '116', '117', '118', '119', '120', '121', '122', '123', '124', '125', '126', '127', '128', '129', '130', '131', '132', '133', '134', '135', '136', '137', '138', '139', '140', '141', '142', '143', '144', '145', '146', '147', '148', '149', '150', '151', '152', '153', '154', '155', '156', '157', '158', '159', '160', '161', '162', '163', '164', '165', '166', '167', '168', '169', '170', '171', '172', '173', '174', '175', '176', '177', '178', '179', '180', '181', '182', '183', '184', '185', '186', '187', '188', '189', '190', '191', '192', '193', '194', '195', '196', '197', '198', '199', '200', '201', '202', '203', '204', '205', '206', '207', '208', '209', '210', '211', '212', '213', '214', '215', '216', '217', '218', '219', '220', '221', '222', '223']\n"
     ]
    }
   ],
   "source": [
    "print(list(echonest.columns))"
   ]
  },
  {
   "cell_type": "code",
   "execution_count": 27,
   "metadata": {},
   "outputs": [
    {
     "name": "stdout",
     "output_type": "stream",
     "text": [
      "  Unnamed: 0  acousticness  danceability    energy  instrumentalness  \\\n",
      "0   track_id           NaN           NaN       NaN               NaN   \n",
      "1          2      0.416675      0.675894  0.634476          0.010628   \n",
      "2          3      0.374408      0.528643  0.817461          0.001851   \n",
      "3          5      0.043567      0.745566  0.701470          0.000697   \n",
      "4         10      0.951670      0.658179  0.924525          0.965427   \n",
      "\n",
      "   liveness  speechiness    tempo   valence  album_date  ...       214  \\\n",
      "0       NaN          NaN      NaN       NaN         NaN  ...       NaN   \n",
      "1  0.177647     0.159310  165.922  0.576661         NaN  ... -1.992303   \n",
      "2  0.105880     0.461818  126.957  0.269240         NaN  ... -1.582331   \n",
      "3  0.373143     0.124595  100.260  0.621661         NaN  ... -2.288358   \n",
      "4  0.115474     0.032985  111.562  0.963590  2008-03-11  ... -3.662988   \n",
      "\n",
      "         215       216       217       218      219      220      221  \\\n",
      "0        NaN       NaN       NaN       NaN      NaN      NaN      NaN   \n",
      "1   6.805694  0.233070  0.192880  0.027455  0.06408  3.67696  3.61288   \n",
      "2   8.889308  0.258464  0.220905  0.081368  0.06413  6.08277  6.01864   \n",
      "3  11.527109  0.256821  0.237820  0.060122  0.06014  5.92649  5.86635   \n",
      "4  21.508228  0.283352  0.267070  0.125704  0.08082  8.41401  8.33319   \n",
      "\n",
      "         222         223  \n",
      "0        NaN         NaN  \n",
      "1  13.316690  262.929749  \n",
      "2  16.673548  325.581085  \n",
      "3  16.013849  356.755737  \n",
      "4  21.317064  483.403809  \n",
      "\n",
      "[5 rows x 250 columns]\n"
     ]
    }
   ],
   "source": [
    "print(echonest.head())"
   ]
  },
  {
   "cell_type": "code",
   "execution_count": 28,
   "metadata": {},
   "outputs": [
    {
     "data": {
      "text/html": [
       "<div>\n",
       "<style scoped>\n",
       "    .dataframe tbody tr th:only-of-type {\n",
       "        vertical-align: middle;\n",
       "    }\n",
       "\n",
       "    .dataframe tbody tr th {\n",
       "        vertical-align: top;\n",
       "    }\n",
       "\n",
       "    .dataframe thead th {\n",
       "        text-align: right;\n",
       "    }\n",
       "</style>\n",
       "<table border=\"1\" class=\"dataframe\">\n",
       "  <thead>\n",
       "    <tr style=\"text-align: right;\">\n",
       "      <th></th>\n",
       "      <th>acousticness</th>\n",
       "      <th>danceability</th>\n",
       "      <th>energy</th>\n",
       "      <th>instrumentalness</th>\n",
       "      <th>liveness</th>\n",
       "      <th>speechiness</th>\n",
       "      <th>tempo</th>\n",
       "      <th>valence</th>\n",
       "      <th>artist_latitude</th>\n",
       "      <th>artist_longitude</th>\n",
       "      <th>...</th>\n",
       "      <th>214</th>\n",
       "      <th>215</th>\n",
       "      <th>216</th>\n",
       "      <th>217</th>\n",
       "      <th>218</th>\n",
       "      <th>219</th>\n",
       "      <th>220</th>\n",
       "      <th>221</th>\n",
       "      <th>222</th>\n",
       "      <th>223</th>\n",
       "    </tr>\n",
       "  </thead>\n",
       "  <tbody>\n",
       "    <tr>\n",
       "      <th>count</th>\n",
       "      <td>1.312900e+04</td>\n",
       "      <td>13129.000000</td>\n",
       "      <td>13129.000000</td>\n",
       "      <td>13129.000000</td>\n",
       "      <td>13129.000000</td>\n",
       "      <td>13129.000000</td>\n",
       "      <td>13129.000000</td>\n",
       "      <td>13129.000000</td>\n",
       "      <td>9770.000000</td>\n",
       "      <td>9770.000000</td>\n",
       "      <td>...</td>\n",
       "      <td>13129.000000</td>\n",
       "      <td>13129.000000</td>\n",
       "      <td>13129.000000</td>\n",
       "      <td>13129.000000</td>\n",
       "      <td>13129.000000</td>\n",
       "      <td>13129.000000</td>\n",
       "      <td>13129.000000</td>\n",
       "      <td>13129.000000</td>\n",
       "      <td>13129.000000</td>\n",
       "      <td>13129.000000</td>\n",
       "    </tr>\n",
       "    <tr>\n",
       "      <th>mean</th>\n",
       "      <td>5.246876e-01</td>\n",
       "      <td>0.487290</td>\n",
       "      <td>0.537516</td>\n",
       "      <td>0.640536</td>\n",
       "      <td>0.187804</td>\n",
       "      <td>0.099174</td>\n",
       "      <td>123.080061</td>\n",
       "      <td>0.439761</td>\n",
       "      <td>39.961892</td>\n",
       "      <td>-49.984040</td>\n",
       "      <td>...</td>\n",
       "      <td>-1.966002</td>\n",
       "      <td>10.745951</td>\n",
       "      <td>0.308984</td>\n",
       "      <td>0.255381</td>\n",
       "      <td>0.163876</td>\n",
       "      <td>0.068526</td>\n",
       "      <td>4.183428</td>\n",
       "      <td>4.114902</td>\n",
       "      <td>7.605432</td>\n",
       "      <td>138.932366</td>\n",
       "    </tr>\n",
       "    <tr>\n",
       "      <th>std</th>\n",
       "      <td>3.837186e-01</td>\n",
       "      <td>0.190148</td>\n",
       "      <td>0.278049</td>\n",
       "      <td>0.361430</td>\n",
       "      <td>0.158051</td>\n",
       "      <td>0.137381</td>\n",
       "      <td>35.015137</td>\n",
       "      <td>0.276028</td>\n",
       "      <td>15.554275</td>\n",
       "      <td>59.377974</td>\n",
       "      <td>...</td>\n",
       "      <td>1.708499</td>\n",
       "      <td>20.053146</td>\n",
       "      <td>0.140164</td>\n",
       "      <td>0.083731</td>\n",
       "      <td>3.484144</td>\n",
       "      <td>0.010930</td>\n",
       "      <td>4.967481</td>\n",
       "      <td>4.967004</td>\n",
       "      <td>6.444884</td>\n",
       "      <td>225.584951</td>\n",
       "    </tr>\n",
       "    <tr>\n",
       "      <th>min</th>\n",
       "      <td>9.035000e-07</td>\n",
       "      <td>0.051307</td>\n",
       "      <td>0.000020</td>\n",
       "      <td>0.000000</td>\n",
       "      <td>0.025297</td>\n",
       "      <td>0.022324</td>\n",
       "      <td>12.753000</td>\n",
       "      <td>0.000010</td>\n",
       "      <td>-45.867100</td>\n",
       "      <td>-155.434000</td>\n",
       "      <td>...</td>\n",
       "      <td>-17.966162</td>\n",
       "      <td>-1.867880</td>\n",
       "      <td>0.129023</td>\n",
       "      <td>0.098280</td>\n",
       "      <td>0.000518</td>\n",
       "      <td>0.060000</td>\n",
       "      <td>0.322180</td>\n",
       "      <td>0.224580</td>\n",
       "      <td>-3.566834</td>\n",
       "      <td>-1.687834</td>\n",
       "    </tr>\n",
       "    <tr>\n",
       "      <th>25%</th>\n",
       "      <td>1.037726e-01</td>\n",
       "      <td>0.344759</td>\n",
       "      <td>0.321300</td>\n",
       "      <td>0.323466</td>\n",
       "      <td>0.101406</td>\n",
       "      <td>0.036932</td>\n",
       "      <td>95.967000</td>\n",
       "      <td>0.197321</td>\n",
       "      <td>37.784827</td>\n",
       "      <td>-87.632400</td>\n",
       "      <td>...</td>\n",
       "      <td>-2.587326</td>\n",
       "      <td>1.229409</td>\n",
       "      <td>0.242371</td>\n",
       "      <td>0.208750</td>\n",
       "      <td>0.021321</td>\n",
       "      <td>0.063080</td>\n",
       "      <td>1.817050</td>\n",
       "      <td>1.749660</td>\n",
       "      <td>2.866906</td>\n",
       "      <td>15.565598</td>\n",
       "    </tr>\n",
       "    <tr>\n",
       "      <th>50%</th>\n",
       "      <td>5.739848e-01</td>\n",
       "      <td>0.485635</td>\n",
       "      <td>0.549113</td>\n",
       "      <td>0.838134</td>\n",
       "      <td>0.119002</td>\n",
       "      <td>0.049019</td>\n",
       "      <td>120.057000</td>\n",
       "      <td>0.417743</td>\n",
       "      <td>40.781400</td>\n",
       "      <td>-74.007100</td>\n",
       "      <td>...</td>\n",
       "      <td>-1.565120</td>\n",
       "      <td>4.355214</td>\n",
       "      <td>0.286014</td>\n",
       "      <td>0.242745</td>\n",
       "      <td>0.042146</td>\n",
       "      <td>0.064490</td>\n",
       "      <td>3.094060</td>\n",
       "      <td>3.026260</td>\n",
       "      <td>5.502340</td>\n",
       "      <td>55.874954</td>\n",
       "    </tr>\n",
       "    <tr>\n",
       "      <th>75%</th>\n",
       "      <td>9.207270e-01</td>\n",
       "      <td>0.629094</td>\n",
       "      <td>0.776254</td>\n",
       "      <td>0.918244</td>\n",
       "      <td>0.211041</td>\n",
       "      <td>0.085452</td>\n",
       "      <td>145.318000</td>\n",
       "      <td>0.665575</td>\n",
       "      <td>47.254575</td>\n",
       "      <td>-0.127140</td>\n",
       "      <td>...</td>\n",
       "      <td>-0.875471</td>\n",
       "      <td>11.407599</td>\n",
       "      <td>0.339086</td>\n",
       "      <td>0.285305</td>\n",
       "      <td>0.087516</td>\n",
       "      <td>0.070070</td>\n",
       "      <td>5.147530</td>\n",
       "      <td>5.079770</td>\n",
       "      <td>10.597994</td>\n",
       "      <td>175.938553</td>\n",
       "    </tr>\n",
       "    <tr>\n",
       "      <th>max</th>\n",
       "      <td>9.957965e-01</td>\n",
       "      <td>0.968645</td>\n",
       "      <td>0.999964</td>\n",
       "      <td>0.998016</td>\n",
       "      <td>0.980330</td>\n",
       "      <td>0.966177</td>\n",
       "      <td>251.072000</td>\n",
       "      <td>0.999990</td>\n",
       "      <td>68.927500</td>\n",
       "      <td>174.770000</td>\n",
       "      <td>...</td>\n",
       "      <td>1.663782</td>\n",
       "      <td>423.621094</td>\n",
       "      <td>5.211423</td>\n",
       "      <td>1.680570</td>\n",
       "      <td>375.744781</td>\n",
       "      <td>0.342000</td>\n",
       "      <td>226.326767</td>\n",
       "      <td>226.244080</td>\n",
       "      <td>67.041878</td>\n",
       "      <td>4790.696777</td>\n",
       "    </tr>\n",
       "  </tbody>\n",
       "</table>\n",
       "<p>8 rows × 244 columns</p>\n",
       "</div>"
      ],
      "text/plain": [
       "       acousticness  danceability        energy  instrumentalness  \\\n",
       "count  1.312900e+04  13129.000000  13129.000000      13129.000000   \n",
       "mean   5.246876e-01      0.487290      0.537516          0.640536   \n",
       "std    3.837186e-01      0.190148      0.278049          0.361430   \n",
       "min    9.035000e-07      0.051307      0.000020          0.000000   \n",
       "25%    1.037726e-01      0.344759      0.321300          0.323466   \n",
       "50%    5.739848e-01      0.485635      0.549113          0.838134   \n",
       "75%    9.207270e-01      0.629094      0.776254          0.918244   \n",
       "max    9.957965e-01      0.968645      0.999964          0.998016   \n",
       "\n",
       "           liveness   speechiness         tempo       valence  \\\n",
       "count  13129.000000  13129.000000  13129.000000  13129.000000   \n",
       "mean       0.187804      0.099174    123.080061      0.439761   \n",
       "std        0.158051      0.137381     35.015137      0.276028   \n",
       "min        0.025297      0.022324     12.753000      0.000010   \n",
       "25%        0.101406      0.036932     95.967000      0.197321   \n",
       "50%        0.119002      0.049019    120.057000      0.417743   \n",
       "75%        0.211041      0.085452    145.318000      0.665575   \n",
       "max        0.980330      0.966177    251.072000      0.999990   \n",
       "\n",
       "       artist_latitude  artist_longitude  ...           214           215  \\\n",
       "count      9770.000000       9770.000000  ...  13129.000000  13129.000000   \n",
       "mean         39.961892        -49.984040  ...     -1.966002     10.745951   \n",
       "std          15.554275         59.377974  ...      1.708499     20.053146   \n",
       "min         -45.867100       -155.434000  ...    -17.966162     -1.867880   \n",
       "25%          37.784827        -87.632400  ...     -2.587326      1.229409   \n",
       "50%          40.781400        -74.007100  ...     -1.565120      4.355214   \n",
       "75%          47.254575         -0.127140  ...     -0.875471     11.407599   \n",
       "max          68.927500        174.770000  ...      1.663782    423.621094   \n",
       "\n",
       "                216           217           218           219           220  \\\n",
       "count  13129.000000  13129.000000  13129.000000  13129.000000  13129.000000   \n",
       "mean       0.308984      0.255381      0.163876      0.068526      4.183428   \n",
       "std        0.140164      0.083731      3.484144      0.010930      4.967481   \n",
       "min        0.129023      0.098280      0.000518      0.060000      0.322180   \n",
       "25%        0.242371      0.208750      0.021321      0.063080      1.817050   \n",
       "50%        0.286014      0.242745      0.042146      0.064490      3.094060   \n",
       "75%        0.339086      0.285305      0.087516      0.070070      5.147530   \n",
       "max        5.211423      1.680570    375.744781      0.342000    226.326767   \n",
       "\n",
       "                221           222           223  \n",
       "count  13129.000000  13129.000000  13129.000000  \n",
       "mean       4.114902      7.605432    138.932366  \n",
       "std        4.967004      6.444884    225.584951  \n",
       "min        0.224580     -3.566834     -1.687834  \n",
       "25%        1.749660      2.866906     15.565598  \n",
       "50%        3.026260      5.502340     55.874954  \n",
       "75%        5.079770     10.597994    175.938553  \n",
       "max      226.244080     67.041878   4790.696777  \n",
       "\n",
       "[8 rows x 244 columns]"
      ]
     },
     "execution_count": 28,
     "metadata": {},
     "output_type": "execute_result"
    }
   ],
   "source": [
    "echonest.describe()"
   ]
  },
  {
   "cell_type": "code",
   "execution_count": 29,
   "metadata": {},
   "outputs": [
    {
     "data": {
      "image/png": "[encoded data removed]",
      "text/plain": [
       "<Figure size 288x288 with 1 Axes>"
      ]
     },
     "metadata": {
      "needs_background": "light"
     },
     "output_type": "display_data"
    },
    {
     "data": {
      "image/png": "[encoded data removed]",
      "text/plain": [
       "<Figure size 432x288 with 1 Axes>"
      ]
     },
     "metadata": {
      "needs_background": "light"
     },
     "output_type": "display_data"
    },
    {
     "data": {
      "image/png": "[encoded data removed]",
      "text/plain": [
       "<Figure size 432x288 with 1 Axes>"
      ]
     },
     "metadata": {
      "needs_background": "light"
     },
     "output_type": "display_data"
    },
    {
     "name": "stdout",
     "output_type": "stream",
     "text": [
      "Unnamed: 0                     0\n",
      "132                            1\n",
      "133                            1\n",
      "134                            1\n",
      "135                            1\n",
      "                           ...  \n",
      "artist_familiarity_rank    10305\n",
      "artist_hotttnesss_rank     10306\n",
      "album_date                 10413\n",
      "song_hotttnesss_rank       10924\n",
      "song_currency_rank         11097\n",
      "Length: 250, dtype: int64\n"
     ]
    }
   ],
   "source": [
    "echonest_na = NaAnalysis(echonest)\n",
    "echonest_na.run_analysis()\n",
    "print(echonest_na.col_na.sort_values())"
   ]
  },
  {
   "cell_type": "markdown",
   "metadata": {},
   "source": [
    "# NBA Dataset\n",
    "\n",
    "Contains information from basketball-reference.com across a number of different player metrics, by season and by game."
   ]
  },
  {
   "cell_type": "code",
   "execution_count": 30,
   "metadata": {},
   "outputs": [
    {
     "name": "stdout",
     "output_type": "stream",
     "text": [
      "/Users/ryanswan/code/nbaScrape/data/div_all_salaries.csv\n",
      "   Unnamed: 0                    Team   Lg      Salary Season player_id\n",
      "0           0  Portland Trail Blazers  NBA  $1,058,640      P  jackja01\n",
      "1           1  Portland Trail Blazers  NBA  $1,137,960      P  jackja01\n",
      "2           2  Portland Trail Blazers  NBA  $1,217,400      P  jackja01\n",
      "3           3          Indiana Pacers  NBA  $2,002,623      I  jackja01\n",
      "4           4         Toronto Raptors  NBA  $4,500,000      T  jackja01\n",
      "/Users/ryanswan/code/nbaScrape/data/div_per_minute.csv\n",
      "   Unnamed: 0  Age   Tm   Lg Pos   G  GS    MP   FG   FGA  ...  TRB  AST  STL  \\\n",
      "0           0   22  POR  NBA  SG  79   4  1599  4.3   9.6  ...  3.6  4.9  0.9   \n",
      "1           1   23  POR  NBA  PG  79  79  2651  4.3   9.6  ...  2.8  5.7  1.2   \n",
      "2           2   24  POR  NBA  SG  82  16  2229  4.3  10.0  ...  3.8  5.1  1.0   \n",
      "3           3   25  IND  NBA  SG  82  53  2716  5.1  11.3  ...  3.7  4.5  1.2   \n",
      "4           4   26  TOR  NBA  PG  82  43  2243  5.2  10.8  ...  3.6  6.6  1.0   \n",
      "\n",
      "   BLK  TOV   PF   PTS   Season  absYear  player_id  \n",
      "0  0.0  2.3  3.1  11.8  2005-06     2005   jackja01  \n",
      "1  0.1  2.5  2.7  12.8  2006-07     2006   jackja01  \n",
      "2  0.0  2.9  2.1  13.1  2007-08     2007   jackja01  \n",
      "3  0.2  2.4  2.4  14.2  2008-09     2008   jackja01  \n",
      "4  0.1  2.6  2.4  14.9  2009-10     2009   jackja01  \n",
      "\n",
      "[5 rows x 32 columns]\n",
      "/Users/ryanswan/code/nbaScrape/data/div_playoffs_per_game.csv\n",
      "   Unnamed: 0  Age   Tm   Lg Pos   G  GS    MP   FG   FGA  ...  TRB  AST  STL  \\\n",
      "0           0   27  NOH  NBA  SG   6   0  18.5  2.0   5.7  ...  2.5  2.2  0.2   \n",
      "1           1   29  GSW  NBA  SG  12   4  35.5  6.5  12.8  ...  4.4  4.7  0.9   \n",
      "2           2   31  BRK  NBA  PG   6   0  25.5  4.7   9.0  ...  4.2  4.5  1.2   \n",
      "3           0   31  HOU  NBA  PG   7   0   2.4  0.3   0.6  ...  0.6  0.3  0.0   \n",
      "4           0   25  MIN  NBA  PG   4   0   6.8  0.5   2.5  ...  1.0  0.5  0.0   \n",
      "\n",
      "   BLK  TOV   PF   PTS   Season  absYear  player_id  \n",
      "0  0.2  1.3  0.7   5.8  2010-11     2010   jackja01  \n",
      "1  0.3  3.2  2.2  17.2  2012-13     2012   jackja01  \n",
      "2  0.2  3.3  2.3  12.3  2014-15     2014   jackja01  \n",
      "3  0.0  0.3  0.3   0.7  2017-18     2017  jacksaa01  \n",
      "4  0.0  0.3  0.8   1.0  1998-99     1998  jacksbo01  \n",
      "\n",
      "[5 rows x 33 columns]\n",
      "/Users/ryanswan/code/nbaScrape/data/div_playoffs_advanced.csv\n",
      "   Unnamed: 0  Age   Tm   Lg Pos   G   MP   PER    TS%   3PAr  ...   WS  \\\n",
      "0           0   27  NOH  NBA  SG   6  111   8.5  0.426  0.147  ... -0.2   \n",
      "1           1   29  GSW  NBA  SG  12  426  17.4  0.588  0.156  ...  1.0   \n",
      "2           2   31  BRK  NBA  PG   6  153  17.6  0.620  0.278  ...  0.3   \n",
      "3           0   31  HOU  NBA  PG   7   17   8.7  0.512  0.500  ...  0.0   \n",
      "4           0   25  MIN  NBA  PG   4   27  -3.3  0.200  0.300  ... -0.1   \n",
      "\n",
      "   WS/48   .1  OBPM  DBPM   BPM  VORP   Season  absYear  player_id  \n",
      "0 -0.088  NaN  -4.5  -1.3  -5.8  -0.1  2010-11     2010   jackja01  \n",
      "1  0.118  NaN   1.7   0.2   1.9   0.4  2012-13     2012   jackja01  \n",
      "2  0.090  NaN   1.0   1.1   2.1   0.2  2014-15     2014   jackja01  \n",
      "3  0.002  NaN  -3.1  -1.1  -4.3   0.0  2017-18     2017  jacksaa01  \n",
      "4 -0.198  NaN  -7.1  -3.2 -10.2  -0.1  1998-99     1998  jacksbo01  \n",
      "\n",
      "[5 rows x 32 columns]\n",
      "/Users/ryanswan/code/nbaScrape/data/div_playoffs_per_poss.csv\n",
      "   Unnamed: 0  Age   Tm   Lg Pos   G  GS   MP   FG   FGA  ...  BLK  TOV   PF  \\\n",
      "0           0   27  NOH  NBA  SG   6   0  111  6.1  17.2  ...  0.5  4.1  2.0   \n",
      "1           1   29  GSW  NBA  SG  12   4  426  9.3  18.5  ...  0.5  4.6  3.1   \n",
      "2           2   31  BRK  NBA  PG   6   0  153  9.3  18.0  ...  0.3  6.7  4.7   \n",
      "3           0   31  HOU  NBA  PG   7   0   17  5.9  11.8  ...  0.0  5.9  5.9   \n",
      "4           0   25  MIN  NBA  PG   4   0   27  4.2  21.0  ...  0.0  2.1  6.3   \n",
      "\n",
      "    PTS  Unnamed: 29   ORtg   DRtg   Season  absYear  player_id  \n",
      "0  17.7          NaN   85.0  115.0  2010-11     2010   jackja01  \n",
      "1  24.7          NaN  110.0  108.0  2012-13     2012   jackja01  \n",
      "2  24.7          NaN  102.0  105.0  2014-15     2014   jackja01  \n",
      "3  14.7          NaN   97.0  114.0  2017-18     2017  jacksaa01  \n",
      "4   8.4          NaN   55.0  108.0  1998-99     1998  jacksbo01  \n",
      "\n",
      "[5 rows x 35 columns]\n",
      "/Users/ryanswan/code/nbaScrape/data/playerList.csv\n",
      "   Unnamed: 0  Unnamed: 0.1  From    To  Pos   Ht     Wt        Birth Date  \\\n",
      "0           0             0  1969  1975  G-F  6-2  200.0   August 29, 1946   \n",
      "1           1             1  2006  2018    G  6-3  200.0  October 28, 1983   \n",
      "2           2             2  2018  2018    G  6-4  185.0       May 6, 1986   \n",
      "3           3             3  1968  1968    G  6-1  185.0     July 29, 1943   \n",
      "4           4             4  1998  2009    G  6-1  185.0    March 13, 1973   \n",
      "\n",
      "                 Colleges         Player                 player_url  player_id  \n",
      "0           Wichita State  Warren Jabali  /players/j/jabalwa01.html  jabalwa01  \n",
      "1            Georgia Tech   Jarrett Jack   /players/j/jackja01.html   jackja01  \n",
      "2                Duquesne  Aaron Jackson  /players/j/jacksaa01.html  jacksaa01  \n",
      "3  Wilberforce University     Al Jackson  /players/j/jacksal01.html  jacksal01  \n",
      "4               Minnesota  Bobby Jackson  /players/j/jacksbo01.html  jacksbo01  \n",
      "/Users/ryanswan/code/nbaScrape/data/div_playoffs_per_minute.csv\n",
      "   Unnamed: 0  Age   Tm   Lg Pos   G  GS   MP   FG   FGA  ...  TRB  AST  STL  \\\n",
      "0           0   27  NOH  NBA  SG   6   0  111  3.9  11.0  ...  4.9  4.2  0.3   \n",
      "1           1   29  GSW  NBA  SG  12   4  426  6.6  13.0  ...  4.5  4.7  0.9   \n",
      "2           2   31  BRK  NBA  PG   6   0  153  6.6  12.7  ...  5.9  6.4  1.6   \n",
      "3           0   31  HOU  NBA  PG   7   0   17  4.2   8.5  ...  8.5  4.2  0.0   \n",
      "4           0   25  MIN  NBA  PG   4   0   27  2.7  13.3  ...  5.3  2.7  0.0   \n",
      "\n",
      "   BLK  TOV   PF   PTS   Season  absYear  player_id  \n",
      "0  0.3  2.6  1.3  11.4  2010-11     2010   jackja01  \n",
      "1  0.3  3.2  2.2  17.4  2012-13     2012   jackja01  \n",
      "2  0.2  4.7  3.3  17.4  2014-15     2014   jackja01  \n",
      "3  0.0  4.2  4.2  10.6  2017-18     2017  jacksaa01  \n",
      "4  0.0  1.3  4.0   5.3  1998-99     1998  jacksbo01  \n",
      "\n",
      "[5 rows x 32 columns]\n",
      "/Users/ryanswan/code/nbaScrape/data/div_totals.csv\n",
      "   Unnamed: 0  Age   Tm   Lg Pos   G  GS    MP   FG  FGA  ...  TRB  AST  STL  \\\n",
      "0           0   22  POR  NBA  SG  79   4  1599  189  428  ...  160  219   41   \n",
      "1           1   23  POR  NBA  PG  79  79  2651  320  705  ...  208  417   86   \n",
      "2           2   24  POR  NBA  SG  82  16  2229  267  620  ...  234  313   61   \n",
      "3           3   25  IND  NBA  SG  82  53  2716  386  853  ...  276  338   88   \n",
      "4           4   26  TOR  NBA  PG  82  43  2243  323  671  ...  222  413   60   \n",
      "\n",
      "   BLK  TOV   PF   PTS   Season  absYear  player_id  \n",
      "0    2  102  138   526  2005-06     2005   jackja01  \n",
      "1    9  187  202   946  2006-07     2006   jackja01  \n",
      "2    1  178  129   814  2007-08     2007   jackja01  \n",
      "3   17  184  179  1074  2008-09     2008   jackja01  \n",
      "4    6  163  151   931  2009-10     2009   jackja01  \n",
      "\n",
      "[5 rows x 33 columns]\n",
      "/Users/ryanswan/code/nbaScrape/data/div_per_game.csv\n",
      "   Unnamed: 0  Age   Tm   Lg Pos   G  GS    MP   FG   FGA  ...  TRB  AST  STL  \\\n",
      "0           0   22  POR  NBA  SG  79   4  20.2  2.4   5.4  ...  2.0  2.8  0.5   \n",
      "1           1   23  POR  NBA  PG  79  79  33.6  4.1   8.9  ...  2.6  5.3  1.1   \n",
      "2           2   24  POR  NBA  SG  82  16  27.2  3.3   7.6  ...  2.9  3.8  0.7   \n",
      "3           3   25  IND  NBA  SG  82  53  33.1  4.7  10.4  ...  3.4  4.1  1.1   \n",
      "4           4   26  TOR  NBA  PG  82  43  27.4  3.9   8.2  ...  2.7  5.0  0.7   \n",
      "\n",
      "   BLK  TOV   PF   PTS   Season  absYear  player_id  \n",
      "0  0.0  1.3  1.7   6.7  2005-06     2005   jackja01  \n",
      "1  0.1  2.4  2.6  12.0  2006-07     2006   jackja01  \n",
      "2  0.0  2.2  1.6   9.9  2007-08     2007   jackja01  \n",
      "3  0.2  2.2  2.2  13.1  2008-09     2008   jackja01  \n",
      "4  0.1  2.0  1.8  11.4  2009-10     2009   jackja01  \n",
      "\n",
      "[5 rows x 33 columns]\n",
      "/Users/ryanswan/code/nbaScrape/data/div_per_poss.csv\n",
      "   Unnamed: 0  Age   Tm   Lg Pos   G  GS    MP   FG   FGA  ...  BLK  TOV   PF  \\\n",
      "0           0   22  POR  NBA  SG  79   4  1599  6.5  14.7  ...  0.1  3.5  4.7   \n",
      "1           1   23  POR  NBA  PG  79  79  2651  6.6  14.5  ...  0.2  3.8  4.1   \n",
      "2           2   24  POR  NBA  SG  82  16  2229  6.5  15.2  ...  0.0  4.4  3.2   \n",
      "3           3   25  IND  NBA  SG  82  53  2716  7.1  15.6  ...  0.3  3.4  3.3   \n",
      "4           4   26  TOR  NBA  PG  82  43  2243  7.4  15.4  ...  0.1  3.7  3.5   \n",
      "\n",
      "    PTS  Unnamed: 29   ORtg   DRtg   Season  absYear  player_id  \n",
      "0  18.0          NaN  104.0  114.0  2005-06     2005   jackja01  \n",
      "1  19.4          NaN  110.0  112.0  2006-07     2006   jackja01  \n",
      "2  19.9          NaN  105.0  110.0  2007-08     2007   jackja01  \n",
      "3  19.7          NaN  107.0  111.0  2008-09     2008   jackja01  \n",
      "4  21.4          NaN  116.0  115.0  2009-10     2009   jackja01  \n",
      "\n"
     ]
    },
    {
     "name": "stdout",
     "output_type": "stream",
     "text": [
      "[5 rows x 35 columns]\n",
      "/Users/ryanswan/code/nbaScrape/data/div_playoffs_totals.csv\n",
      "   Unnamed: 0  Age   Tm   Lg Pos   G  GS   MP  FG  FGA  ...  TRB  AST  STL  \\\n",
      "0           0   27  NOH  NBA  SG   6   0  111  12   34  ...   15   13    1   \n",
      "1           1   29  GSW  NBA  SG  12   4  426  78  154  ...   53   56   11   \n",
      "2           2   31  BRK  NBA  PG   6   0  153  28   54  ...   25   27    7   \n",
      "3           0   31  HOU  NBA  PG   7   0   17   2    4  ...    4    2    0   \n",
      "4           0   25  MIN  NBA  PG   4   0   27   2   10  ...    4    2    0   \n",
      "\n",
      "   BLK  TOV  PF  PTS   Season  absYear  player_id  \n",
      "0    1    8   4   35  2010-11     2010   jackja01  \n",
      "1    4   38  26  206  2012-13     2012   jackja01  \n",
      "2    1   20  14   74  2014-15     2014   jackja01  \n",
      "3    0    2   2    5  2017-18     2017  jacksaa01  \n",
      "4    0    1   3    4  1998-99     1998  jacksbo01  \n",
      "\n",
      "[5 rows x 33 columns]\n",
      "/Users/ryanswan/code/nbaScrape/data/div_advanced.csv\n",
      "   Unnamed: 0  Age   Tm   Lg Pos   G    MP   PER    TS%   3PAr  ...   WS  \\\n",
      "0           0   22  POR  NBA  SG  79  1599  12.3  0.528  0.178  ...  1.2   \n",
      "1           1   23  POR  NBA  PG  79  2651  14.5  0.571  0.255  ...  4.8   \n",
      "2           2   24  POR  NBA  SG  82  2229  13.0  0.558  0.306  ...  3.2   \n",
      "3           3   25  IND  NBA  SG  82  2716  13.1  0.554  0.259  ...  4.1   \n",
      "4           4   26  TOR  NBA  PG  82  2243  16.3  0.599  0.297  ...  4.8   \n",
      "\n",
      "   WS/48   .1  OBPM  DBPM  BPM  VORP   Season  absYear  player_id  \n",
      "0  0.035  NaN  -1.2  -2.4 -3.6  -0.7  2005-06     2005   jackja01  \n",
      "1  0.087  NaN   1.2  -1.3 -0.1   1.3  2006-07     2006   jackja01  \n",
      "2  0.069  NaN  -0.2  -0.6 -0.8   0.7  2007-08     2007   jackja01  \n",
      "3  0.073  NaN   0.0  -0.7 -0.7   0.9  2008-09     2008   jackja01  \n",
      "4  0.102  NaN   2.5  -2.3  0.1   1.2  2009-10     2009   jackja01  \n",
      "\n",
      "[5 rows x 32 columns]\n"
     ]
    }
   ],
   "source": [
    "from glob import glob\n",
    "\n",
    "files = glob('/Users/ryanswan/code/nbaScrape/data/*.csv')\n",
    "nba_data = {}\n",
    "for d in files:\n",
    "    pd_data = pd.read_csv(d)\n",
    "    nba_data[d] = pd_data\n",
    "    print(d)\n",
    "    print(pd_data.head())\n",
    "    # n = NaAnalysis(pd_data)\n",
    "    # n.run_analysis()\n",
    "    "
   ]
  },
  {
   "cell_type": "code",
   "execution_count": null,
   "metadata": {},
   "outputs": [],
   "source": []
  }
 ],
 "metadata": {
  "kernelspec": {
   "display_name": "Python 3",
   "language": "python",
   "name": "python3"
  },
  "language_info": {
   "codemirror_mode": {
    "name": "ipython",
    "version": 3
   },
   "file_extension": ".py",
   "mimetype": "text/x-python",
   "name": "python",
   "nbconvert_exporter": "python",
   "pygments_lexer": "ipython3",
   "version": "3.7.5"
  }
 },
 "nbformat": 4,
 "nbformat_minor": 2
}
