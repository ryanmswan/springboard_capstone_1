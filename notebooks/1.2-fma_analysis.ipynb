{
 "cells": [
  {
   "cell_type": "markdown",
   "metadata": {},
   "source": [
    "# Free Music Archive\n",
    "\n",
    "[The Free Music Archive](https://github.com/mdeff/fma) contains metadata and 30 second clips of over 100,000 tracks."
   ]
  },
  {
   "cell_type": "code",
   "execution_count": 1,
   "metadata": {},
   "outputs": [
    {
     "name": "stderr",
     "output_type": "stream",
     "text": [
      "/usr/local/lib/python3.7/site-packages/statsmodels/tools/_testing.py:19: FutureWarning: pandas.util.testing is deprecated. Use the functions in the public API at pandas.testing instead.\n",
      "  import pandas.util.testing as tm\n"
     ]
    }
   ],
   "source": [
    "import sqlite3\n",
    "import numpy as np\n",
    "import os\n",
    "import pandas as pd\n",
    "from matplotlib import pyplot as plt\n",
    "import seaborn as sns"
   ]
  },
  {
   "cell_type": "code",
   "execution_count": 2,
   "metadata": {},
   "outputs": [],
   "source": [
    "# # Import FMA specific utilities\n",
    "# import importlib.util\n",
    "# spec = importlib.util.spec_from_file_location(\"utils\", \"/Users/ryanswan/code/fma/utils.py\")\n",
    "# fma = importlib.util.module_from_spec(spec)\n",
    "# spec.loader.exec_module(fma)"
   ]
  },
  {
   "cell_type": "markdown",
   "metadata": {},
   "source": [
    "## EDA"
   ]
  },
  {
   "cell_type": "markdown",
   "metadata": {},
   "source": [
    "### Tracks\n",
    "\n",
    "The tracks table is the unifying feature set for the FMA. It provides details about track length, artist location, and various other relevant information."
   ]
  },
  {
   "cell_type": "code",
   "execution_count": 3,
   "metadata": {},
   "outputs": [],
   "source": [
    "# test = fma.load('~/Downloads/fma_metadata/tracks.csv') Throws error for some reason - need to investigate"
   ]
  },
  {
   "cell_type": "code",
   "execution_count": 4,
   "metadata": {},
   "outputs": [],
   "source": [
    "# Tracks table\n",
    "tracks = pd.read_csv('../data/raw/fma_metadata/tracks.csv', index_col=0, header=[0,1])"
   ]
  },
  {
   "cell_type": "code",
   "execution_count": 5,
   "metadata": {},
   "outputs": [
    {
     "name": "stdout",
     "output_type": "stream",
     "text": [
      "(106574, 52)\n"
     ]
    }
   ],
   "source": [
    "print(tracks.shape)"
   ]
  },
  {
   "cell_type": "code",
   "execution_count": 6,
   "metadata": {},
   "outputs": [
    {
     "name": "stdout",
     "output_type": "stream",
     "text": [
      "MultiIndex([( 'album',          'comments'),\n",
      "            ( 'album',      'date_created'),\n",
      "            ( 'album',     'date_released'),\n",
      "            ( 'album',          'engineer'),\n",
      "            ( 'album',         'favorites'),\n",
      "            ( 'album',                'id'),\n",
      "            ( 'album',       'information'),\n",
      "            ( 'album',           'listens'),\n",
      "            ( 'album',          'producer'),\n",
      "            ( 'album',              'tags'),\n",
      "            ( 'album',             'title'),\n",
      "            ( 'album',            'tracks'),\n",
      "            ( 'album',              'type'),\n",
      "            ('artist', 'active_year_begin'),\n",
      "            ('artist',   'active_year_end'),\n",
      "            ('artist', 'associated_labels'),\n",
      "            ('artist',               'bio'),\n",
      "            ('artist',          'comments'),\n",
      "            ('artist',      'date_created'),\n",
      "            ('artist',         'favorites'),\n",
      "            ('artist',                'id'),\n",
      "            ('artist',          'latitude'),\n",
      "            ('artist',          'location'),\n",
      "            ('artist',         'longitude'),\n",
      "            ('artist',           'members'),\n",
      "            ('artist',              'name'),\n",
      "            ('artist',  'related_projects'),\n",
      "            ('artist',              'tags'),\n",
      "            ('artist',           'website'),\n",
      "            ('artist',    'wikipedia_page'),\n",
      "            (   'set',             'split'),\n",
      "            (   'set',            'subset'),\n",
      "            ( 'track',          'bit_rate'),\n",
      "            ( 'track',          'comments'),\n",
      "            ( 'track',          'composer'),\n",
      "            ( 'track',      'date_created'),\n",
      "            ( 'track',     'date_recorded'),\n",
      "            ( 'track',          'duration'),\n",
      "            ( 'track',         'favorites'),\n",
      "            ( 'track',         'genre_top'),\n",
      "            ( 'track',            'genres'),\n",
      "            ( 'track',        'genres_all'),\n",
      "            ( 'track',       'information'),\n",
      "            ( 'track',          'interest'),\n",
      "            ( 'track',     'language_code'),\n",
      "            ( 'track',           'license'),\n",
      "            ( 'track',           'listens'),\n",
      "            ( 'track',          'lyricist'),\n",
      "            ( 'track',            'number'),\n",
      "            ( 'track',         'publisher'),\n",
      "            ( 'track',              'tags'),\n",
      "            ( 'track',             'title')],\n",
      "           )\n"
     ]
    }
   ],
   "source": [
    "print(tracks.columns)"
   ]
  },
  {
   "cell_type": "code",
   "execution_count": 7,
   "metadata": {},
   "outputs": [
    {
     "name": "stdout",
     "output_type": "stream",
     "text": [
      "            album                                                     \\\n",
      "         comments         date_created        date_released engineer   \n",
      "track_id                                                               \n",
      "2               0  2008-11-26 01:44:45  2009-01-05 00:00:00      NaN   \n",
      "3               0  2008-11-26 01:44:45  2009-01-05 00:00:00      NaN   \n",
      "5               0  2008-11-26 01:44:45  2009-01-05 00:00:00      NaN   \n",
      "10              0  2008-11-26 01:45:08  2008-02-06 00:00:00      NaN   \n",
      "20              0  2008-11-26 01:45:05  2009-01-06 00:00:00      NaN   \n",
      "\n",
      "                                                                          \\\n",
      "         favorites id                                information listens   \n",
      "track_id                                                                   \n",
      "2                4  1                                    <p></p>    6073   \n",
      "3                4  1                                    <p></p>    6073   \n",
      "5                4  1                                    <p></p>    6073   \n",
      "10               4  6                                        NaN   47632   \n",
      "20               2  4  <p> \"spiritual songs\" from Nicky Cook</p>    2710   \n",
      "\n",
      "                        ...       track                         \\\n",
      "         producer tags  ... information interest language_code   \n",
      "track_id                ...                                      \n",
      "2             NaN   []  ...         NaN     4656            en   \n",
      "3             NaN   []  ...         NaN     1470            en   \n",
      "5             NaN   []  ...         NaN     1933            en   \n",
      "10            NaN   []  ...         NaN    54881            en   \n",
      "20            NaN   []  ...         NaN      978            en   \n",
      "\n",
      "                                                                              \\\n",
      "                                                    license listens lyricist   \n",
      "track_id                                                                       \n",
      "2         Attribution-NonCommercial-ShareAlike 3.0 Inter...    1293      NaN   \n",
      "3         Attribution-NonCommercial-ShareAlike 3.0 Inter...     514      NaN   \n",
      "5         Attribution-NonCommercial-ShareAlike 3.0 Inter...    1151      NaN   \n",
      "10        Attribution-NonCommercial-NoDerivatives (aka M...   50135      NaN   \n",
      "20        Attribution-NonCommercial-NoDerivatives (aka M...     361      NaN   \n",
      "\n",
      "                                                 \n",
      "         number publisher tags            title  \n",
      "track_id                                         \n",
      "2             3       NaN   []             Food  \n",
      "3             4       NaN   []     Electric Ave  \n",
      "5             6       NaN   []       This World  \n",
      "10            1       NaN   []          Freeway  \n",
      "20            3       NaN   []  Spiritual Level  \n",
      "\n",
      "[5 rows x 52 columns]\n"
     ]
    }
   ],
   "source": [
    "print(tracks.head())"
   ]
  },
  {
   "cell_type": "code",
   "execution_count": 8,
   "metadata": {},
   "outputs": [
    {
     "data": {
      "image/png": "[encoded data removed]",
      "text/plain": [
       "<Figure size 288x288 with 1 Axes>"
      ]
     },
     "metadata": {
      "needs_background": "light"
     },
     "output_type": "display_data"
    }
   ],
   "source": [
    "na_grid = tracks.applymap(pd.isna)\n",
    "plt.matshow(na_grid.corr())\n",
    "plt.xlabel('field number')\n",
    "plt.title('Correlation of Missing Values')\n",
    "plt.show()"
   ]
  },
  {
   "cell_type": "code",
   "execution_count": 9,
   "metadata": {},
   "outputs": [],
   "source": [
    "row_na = na_grid.apply(sum, axis=1)"
   ]
  },
  {
   "cell_type": "code",
   "execution_count": 10,
   "metadata": {},
   "outputs": [
    {
     "data": {
      "image/png": "[encoded data removed]",
      "text/plain": [
       "<Figure size 432x288 with 1 Axes>"
      ]
     },
     "metadata": {
      "needs_background": "light"
     },
     "output_type": "display_data"
    }
   ],
   "source": [
    "plt.hist(row_na)\n",
    "plt.xlabel('Number Missing Fields')\n",
    "plt.ylabel('Count')\n",
    "plt.title('Number of missing fields calculated by row')\n",
    "plt.show()"
   ]
  },
  {
   "cell_type": "code",
   "execution_count": 11,
   "metadata": {},
   "outputs": [
    {
     "data": {
      "image/png": "[encoded data removed]",
      "text/plain": [
       "<Figure size 432x288 with 1 Axes>"
      ]
     },
     "metadata": {
      "needs_background": "light"
     },
     "output_type": "display_data"
    }
   ],
   "source": [
    "col_na = na_grid.apply(sum, axis=0)\n",
    "plt.hist(col_na)\n",
    "plt.xlabel('Number Missing Fields')\n",
    "plt.ylabel('Count')\n",
    "plt.title('Number of missing fields calculated by columns')\n",
    "plt.show()"
   ]
  },
  {
   "cell_type": "code",
   "execution_count": 12,
   "metadata": {},
   "outputs": [],
   "source": [
    "# Define class to produce these plots reliably\n",
    "class NaAnalysis:\n",
    "    def __init__(self, df):\n",
    "        self.na_grid = df.applymap(pd.isna)\n",
    "        self.row_na = self.na_grid.apply(sum, axis=1)\n",
    "        self.col_na = self.na_grid.apply(sum, axis=0)\n",
    "    def corr_plot(self):\n",
    "        # Correlation plot\n",
    "        plt.matshow(self.na_grid.corr())\n",
    "        plt.xlabel('field number')\n",
    "        plt.title('Correlation of Missing Values')\n",
    "        plt.show()\n",
    "    def row_plot(self):\n",
    "        # Row Histogram\n",
    "        plt.hist(self.row_na)\n",
    "        plt.xlabel('Number Missing Fields')\n",
    "        plt.ylabel('Count')\n",
    "        plt.title('Number of missing fields calculated by row')\n",
    "        plt.show()\n",
    "    def col_plot(self):\n",
    "        # Col Histogram\n",
    "        plt.hist(self.col_na)\n",
    "        plt.xlabel('Number Missing Fields')\n",
    "        plt.ylabel('Count')\n",
    "        plt.title('Number of missing fields calculated by columns')\n",
    "        plt.show()\n",
    "    def run_analysis(self):\n",
    "        self.corr_plot()\n",
    "        self.row_plot()\n",
    "        self.col_plot()"
   ]
  },
  {
   "cell_type": "code",
   "execution_count": 13,
   "metadata": {},
   "outputs": [
    {
     "data": {
      "image/png": "[encoded data removed]",
      "text/plain": [
       "<Figure size 288x288 with 1 Axes>"
      ]
     },
     "metadata": {
      "needs_background": "light"
     },
     "output_type": "display_data"
    },
    {
     "data": {
      "image/png": "[encoded data removed]",
      "text/plain": [
       "<Figure size 432x288 with 1 Axes>"
      ]
     },
     "metadata": {
      "needs_background": "light"
     },
     "output_type": "display_data"
    },
    {
     "data": {
      "image/png": "[encoded data removed]",
      "text/plain": [
       "<Figure size 432x288 with 1 Axes>"
      ]
     },
     "metadata": {
      "needs_background": "light"
     },
     "output_type": "display_data"
    }
   ],
   "source": [
    "tracks_na = NaAnalysis(tracks)\n",
    "tracks_na.run_analysis()"
   ]
  },
  {
   "cell_type": "code",
   "execution_count": 14,
   "metadata": {},
   "outputs": [
    {
     "name": "stdout",
     "output_type": "stream",
     "text": [
      "album   date_released        0.340421\n",
      "        engineer             0.856485\n",
      "        information          0.219800\n",
      "        producer             0.830540\n",
      "artist  active_year_begin    0.786899\n",
      "        active_year_end      0.949566\n",
      "        associated_labels    0.866093\n",
      "        bio                  0.332332\n",
      "        latitude             0.582037\n",
      "        location             0.341209\n",
      "        longitude            0.582037\n",
      "        members              0.560409\n",
      "        related_projects     0.876593\n",
      "        website              0.256329\n",
      "        wikipedia_page       0.947633\n",
      "track   composer             0.965564\n",
      "        date_recorded        0.942209\n",
      "        genre_top            0.534614\n",
      "        information          0.977959\n",
      "        language_code        0.859028\n",
      "        lyricist             0.997082\n",
      "        publisher            0.988149\n",
      "dtype: float64\n"
     ]
    }
   ],
   "source": [
    "# Get percentage of null values in each field\n",
    "n_null = tracks.isnull().sum() / len(tracks)\n",
    "high_miss = n_null[n_null > 0.20]\n",
    "print(high_miss)"
   ]
  },
  {
   "cell_type": "code",
   "execution_count": 15,
   "metadata": {},
   "outputs": [
    {
     "data": {
      "text/html": [
       "<div>\n",
       "<style scoped>\n",
       "    .dataframe tbody tr th:only-of-type {\n",
       "        vertical-align: middle;\n",
       "    }\n",
       "\n",
       "    .dataframe tbody tr th {\n",
       "        vertical-align: top;\n",
       "    }\n",
       "\n",
       "    .dataframe thead tr th {\n",
       "        text-align: left;\n",
       "    }\n",
       "\n",
       "    .dataframe thead tr:last-of-type th {\n",
       "        text-align: right;\n",
       "    }\n",
       "</style>\n",
       "<table border=\"1\" class=\"dataframe\">\n",
       "  <thead>\n",
       "    <tr>\n",
       "      <th></th>\n",
       "      <th colspan=\"4\" halign=\"left\">album</th>\n",
       "      <th colspan=\"10\" halign=\"left\">artist</th>\n",
       "      <th colspan=\"7\" halign=\"left\">track</th>\n",
       "    </tr>\n",
       "    <tr>\n",
       "      <th></th>\n",
       "      <th>date_released</th>\n",
       "      <th>engineer</th>\n",
       "      <th>information</th>\n",
       "      <th>producer</th>\n",
       "      <th>active_year_begin</th>\n",
       "      <th>active_year_end</th>\n",
       "      <th>associated_labels</th>\n",
       "      <th>bio</th>\n",
       "      <th>latitude</th>\n",
       "      <th>location</th>\n",
       "      <th>...</th>\n",
       "      <th>related_projects</th>\n",
       "      <th>website</th>\n",
       "      <th>wikipedia_page</th>\n",
       "      <th>composer</th>\n",
       "      <th>date_recorded</th>\n",
       "      <th>genre_top</th>\n",
       "      <th>information</th>\n",
       "      <th>language_code</th>\n",
       "      <th>lyricist</th>\n",
       "      <th>publisher</th>\n",
       "    </tr>\n",
       "    <tr>\n",
       "      <th>track_id</th>\n",
       "      <th></th>\n",
       "      <th></th>\n",
       "      <th></th>\n",
       "      <th></th>\n",
       "      <th></th>\n",
       "      <th></th>\n",
       "      <th></th>\n",
       "      <th></th>\n",
       "      <th></th>\n",
       "      <th></th>\n",
       "      <th></th>\n",
       "      <th></th>\n",
       "      <th></th>\n",
       "      <th></th>\n",
       "      <th></th>\n",
       "      <th></th>\n",
       "      <th></th>\n",
       "      <th></th>\n",
       "      <th></th>\n",
       "      <th></th>\n",
       "      <th></th>\n",
       "    </tr>\n",
       "  </thead>\n",
       "  <tbody>\n",
       "    <tr>\n",
       "      <th>2</th>\n",
       "      <td>2009-01-05 00:00:00</td>\n",
       "      <td>NaN</td>\n",
       "      <td>&lt;p&gt;&lt;/p&gt;</td>\n",
       "      <td>NaN</td>\n",
       "      <td>2006-01-01 00:00:00</td>\n",
       "      <td>NaN</td>\n",
       "      <td>NaN</td>\n",
       "      <td>&lt;p&gt;A Way Of Life, A Collective of Hip-Hop from...</td>\n",
       "      <td>40.058324</td>\n",
       "      <td>New Jersey</td>\n",
       "      <td>...</td>\n",
       "      <td>The list of past projects is 2 long but every1...</td>\n",
       "      <td>http://www.AzillionRecords.blogspot.com</td>\n",
       "      <td>NaN</td>\n",
       "      <td>NaN</td>\n",
       "      <td>2008-11-26 00:00:00</td>\n",
       "      <td>Hip-Hop</td>\n",
       "      <td>NaN</td>\n",
       "      <td>en</td>\n",
       "      <td>NaN</td>\n",
       "      <td>NaN</td>\n",
       "    </tr>\n",
       "    <tr>\n",
       "      <th>3</th>\n",
       "      <td>2009-01-05 00:00:00</td>\n",
       "      <td>NaN</td>\n",
       "      <td>&lt;p&gt;&lt;/p&gt;</td>\n",
       "      <td>NaN</td>\n",
       "      <td>2006-01-01 00:00:00</td>\n",
       "      <td>NaN</td>\n",
       "      <td>NaN</td>\n",
       "      <td>&lt;p&gt;A Way Of Life, A Collective of Hip-Hop from...</td>\n",
       "      <td>40.058324</td>\n",
       "      <td>New Jersey</td>\n",
       "      <td>...</td>\n",
       "      <td>The list of past projects is 2 long but every1...</td>\n",
       "      <td>http://www.AzillionRecords.blogspot.com</td>\n",
       "      <td>NaN</td>\n",
       "      <td>NaN</td>\n",
       "      <td>2008-11-26 00:00:00</td>\n",
       "      <td>Hip-Hop</td>\n",
       "      <td>NaN</td>\n",
       "      <td>en</td>\n",
       "      <td>NaN</td>\n",
       "      <td>NaN</td>\n",
       "    </tr>\n",
       "    <tr>\n",
       "      <th>5</th>\n",
       "      <td>2009-01-05 00:00:00</td>\n",
       "      <td>NaN</td>\n",
       "      <td>&lt;p&gt;&lt;/p&gt;</td>\n",
       "      <td>NaN</td>\n",
       "      <td>2006-01-01 00:00:00</td>\n",
       "      <td>NaN</td>\n",
       "      <td>NaN</td>\n",
       "      <td>&lt;p&gt;A Way Of Life, A Collective of Hip-Hop from...</td>\n",
       "      <td>40.058324</td>\n",
       "      <td>New Jersey</td>\n",
       "      <td>...</td>\n",
       "      <td>The list of past projects is 2 long but every1...</td>\n",
       "      <td>http://www.AzillionRecords.blogspot.com</td>\n",
       "      <td>NaN</td>\n",
       "      <td>NaN</td>\n",
       "      <td>2008-11-26 00:00:00</td>\n",
       "      <td>Hip-Hop</td>\n",
       "      <td>NaN</td>\n",
       "      <td>en</td>\n",
       "      <td>NaN</td>\n",
       "      <td>NaN</td>\n",
       "    </tr>\n",
       "    <tr>\n",
       "      <th>10</th>\n",
       "      <td>2008-02-06 00:00:00</td>\n",
       "      <td>NaN</td>\n",
       "      <td>NaN</td>\n",
       "      <td>NaN</td>\n",
       "      <td>NaN</td>\n",
       "      <td>NaN</td>\n",
       "      <td>Mexican Summer, Richie Records, Woodsist, Skul...</td>\n",
       "      <td>&lt;p&gt;&lt;span style=\"font-family:Verdana, Geneva, A...</td>\n",
       "      <td>NaN</td>\n",
       "      <td>NaN</td>\n",
       "      <td>...</td>\n",
       "      <td>NaN</td>\n",
       "      <td>http://kurtvile.com</td>\n",
       "      <td>NaN</td>\n",
       "      <td>Kurt Vile</td>\n",
       "      <td>2008-11-26 00:00:00</td>\n",
       "      <td>Pop</td>\n",
       "      <td>NaN</td>\n",
       "      <td>en</td>\n",
       "      <td>NaN</td>\n",
       "      <td>NaN</td>\n",
       "    </tr>\n",
       "    <tr>\n",
       "      <th>20</th>\n",
       "      <td>2009-01-06 00:00:00</td>\n",
       "      <td>NaN</td>\n",
       "      <td>&lt;p&gt; \"spiritual songs\" from Nicky Cook&lt;/p&gt;</td>\n",
       "      <td>NaN</td>\n",
       "      <td>1990-01-01 00:00:00</td>\n",
       "      <td>2011-01-01 00:00:00</td>\n",
       "      <td>NaN</td>\n",
       "      <td>&lt;p&gt;Songs written by: Nicky Cook&lt;/p&gt;\\n&lt;p&gt;VOCALS...</td>\n",
       "      <td>51.895927</td>\n",
       "      <td>Colchester England</td>\n",
       "      <td>...</td>\n",
       "      <td>NaN</td>\n",
       "      <td>NaN</td>\n",
       "      <td>NaN</td>\n",
       "      <td>NaN</td>\n",
       "      <td>2008-01-01 00:00:00</td>\n",
       "      <td>NaN</td>\n",
       "      <td>NaN</td>\n",
       "      <td>en</td>\n",
       "      <td>NaN</td>\n",
       "      <td>NaN</td>\n",
       "    </tr>\n",
       "    <tr>\n",
       "      <th>...</th>\n",
       "      <td>...</td>\n",
       "      <td>...</td>\n",
       "      <td>...</td>\n",
       "      <td>...</td>\n",
       "      <td>...</td>\n",
       "      <td>...</td>\n",
       "      <td>...</td>\n",
       "      <td>...</td>\n",
       "      <td>...</td>\n",
       "      <td>...</td>\n",
       "      <td>...</td>\n",
       "      <td>...</td>\n",
       "      <td>...</td>\n",
       "      <td>...</td>\n",
       "      <td>...</td>\n",
       "      <td>...</td>\n",
       "      <td>...</td>\n",
       "      <td>...</td>\n",
       "      <td>...</td>\n",
       "      <td>...</td>\n",
       "      <td>...</td>\n",
       "    </tr>\n",
       "    <tr>\n",
       "      <th>155316</th>\n",
       "      <td>2017-02-17 00:00:00</td>\n",
       "      <td>NaN</td>\n",
       "      <td>&lt;p&gt;A live performance at Monty Hall on Feb 17,...</td>\n",
       "      <td>Monty Hall</td>\n",
       "      <td>NaN</td>\n",
       "      <td>NaN</td>\n",
       "      <td>NaN</td>\n",
       "      <td>NaN</td>\n",
       "      <td>NaN</td>\n",
       "      <td>New Jersey</td>\n",
       "      <td>...</td>\n",
       "      <td>NaN</td>\n",
       "      <td>https://spowder.bandcamp.com/</td>\n",
       "      <td>NaN</td>\n",
       "      <td>NaN</td>\n",
       "      <td>NaN</td>\n",
       "      <td>Rock</td>\n",
       "      <td>NaN</td>\n",
       "      <td>NaN</td>\n",
       "      <td>NaN</td>\n",
       "      <td>NaN</td>\n",
       "    </tr>\n",
       "    <tr>\n",
       "      <th>155317</th>\n",
       "      <td>2017-02-17 00:00:00</td>\n",
       "      <td>NaN</td>\n",
       "      <td>&lt;p&gt;A live performance at Monty Hall on Feb 17,...</td>\n",
       "      <td>Monty Hall</td>\n",
       "      <td>NaN</td>\n",
       "      <td>NaN</td>\n",
       "      <td>NaN</td>\n",
       "      <td>NaN</td>\n",
       "      <td>NaN</td>\n",
       "      <td>New Jersey</td>\n",
       "      <td>...</td>\n",
       "      <td>NaN</td>\n",
       "      <td>https://spowder.bandcamp.com/</td>\n",
       "      <td>NaN</td>\n",
       "      <td>NaN</td>\n",
       "      <td>NaN</td>\n",
       "      <td>Rock</td>\n",
       "      <td>NaN</td>\n",
       "      <td>NaN</td>\n",
       "      <td>NaN</td>\n",
       "      <td>NaN</td>\n",
       "    </tr>\n",
       "    <tr>\n",
       "      <th>155318</th>\n",
       "      <td>2017-02-17 00:00:00</td>\n",
       "      <td>NaN</td>\n",
       "      <td>&lt;p&gt;A live performance at Monty Hall on Feb 17,...</td>\n",
       "      <td>Monty Hall</td>\n",
       "      <td>NaN</td>\n",
       "      <td>NaN</td>\n",
       "      <td>NaN</td>\n",
       "      <td>NaN</td>\n",
       "      <td>NaN</td>\n",
       "      <td>New Jersey</td>\n",
       "      <td>...</td>\n",
       "      <td>NaN</td>\n",
       "      <td>https://spowder.bandcamp.com/</td>\n",
       "      <td>NaN</td>\n",
       "      <td>NaN</td>\n",
       "      <td>NaN</td>\n",
       "      <td>Rock</td>\n",
       "      <td>NaN</td>\n",
       "      <td>NaN</td>\n",
       "      <td>NaN</td>\n",
       "      <td>NaN</td>\n",
       "    </tr>\n",
       "    <tr>\n",
       "      <th>155319</th>\n",
       "      <td>2017-02-17 00:00:00</td>\n",
       "      <td>NaN</td>\n",
       "      <td>&lt;p&gt;A live performance at Monty Hall on Feb 17,...</td>\n",
       "      <td>Monty Hall</td>\n",
       "      <td>NaN</td>\n",
       "      <td>NaN</td>\n",
       "      <td>NaN</td>\n",
       "      <td>NaN</td>\n",
       "      <td>NaN</td>\n",
       "      <td>New Jersey</td>\n",
       "      <td>...</td>\n",
       "      <td>NaN</td>\n",
       "      <td>https://spowder.bandcamp.com/</td>\n",
       "      <td>NaN</td>\n",
       "      <td>NaN</td>\n",
       "      <td>NaN</td>\n",
       "      <td>Rock</td>\n",
       "      <td>NaN</td>\n",
       "      <td>NaN</td>\n",
       "      <td>NaN</td>\n",
       "      <td>NaN</td>\n",
       "    </tr>\n",
       "    <tr>\n",
       "      <th>155320</th>\n",
       "      <td>2017-03-26 00:00:00</td>\n",
       "      <td>NaN</td>\n",
       "      <td>NaN</td>\n",
       "      <td>NaN</td>\n",
       "      <td>NaN</td>\n",
       "      <td>NaN</td>\n",
       "      <td>NaN</td>\n",
       "      <td>&lt;p&gt;****NOTE FOR USING OUR MUSIC ON YOUTUBE****...</td>\n",
       "      <td>NaN</td>\n",
       "      <td>Jersey City, NJ 07302</td>\n",
       "      <td>...</td>\n",
       "      <td>** PLEASE CONNECT WITH US THROUGH FACEBOOK! WE...</td>\n",
       "      <td>NaN</td>\n",
       "      <td>NaN</td>\n",
       "      <td>NaN</td>\n",
       "      <td>NaN</td>\n",
       "      <td>NaN</td>\n",
       "      <td>NaN</td>\n",
       "      <td>NaN</td>\n",
       "      <td>NaN</td>\n",
       "      <td>NaN</td>\n",
       "    </tr>\n",
       "  </tbody>\n",
       "</table>\n",
       "<p>106574 rows × 22 columns</p>\n",
       "</div>"
      ],
      "text/plain": [
       "                        album           \\\n",
       "                date_released engineer   \n",
       "track_id                                 \n",
       "2         2009-01-05 00:00:00      NaN   \n",
       "3         2009-01-05 00:00:00      NaN   \n",
       "5         2009-01-05 00:00:00      NaN   \n",
       "10        2008-02-06 00:00:00      NaN   \n",
       "20        2009-01-06 00:00:00      NaN   \n",
       "...                       ...      ...   \n",
       "155316    2017-02-17 00:00:00      NaN   \n",
       "155317    2017-02-17 00:00:00      NaN   \n",
       "155318    2017-02-17 00:00:00      NaN   \n",
       "155319    2017-02-17 00:00:00      NaN   \n",
       "155320    2017-03-26 00:00:00      NaN   \n",
       "\n",
       "                                                                          \\\n",
       "                                                information     producer   \n",
       "track_id                                                                   \n",
       "2                                                   <p></p>          NaN   \n",
       "3                                                   <p></p>          NaN   \n",
       "5                                                   <p></p>          NaN   \n",
       "10                                                      NaN          NaN   \n",
       "20                <p> \"spiritual songs\" from Nicky Cook</p>          NaN   \n",
       "...                                                     ...          ...   \n",
       "155316    <p>A live performance at Monty Hall on Feb 17,...  Monty Hall    \n",
       "155317    <p>A live performance at Monty Hall on Feb 17,...  Monty Hall    \n",
       "155318    <p>A live performance at Monty Hall on Feb 17,...  Monty Hall    \n",
       "155319    <p>A live performance at Monty Hall on Feb 17,...  Monty Hall    \n",
       "155320                                                  NaN          NaN   \n",
       "\n",
       "                       artist                       \\\n",
       "            active_year_begin      active_year_end   \n",
       "track_id                                             \n",
       "2         2006-01-01 00:00:00                  NaN   \n",
       "3         2006-01-01 00:00:00                  NaN   \n",
       "5         2006-01-01 00:00:00                  NaN   \n",
       "10                        NaN                  NaN   \n",
       "20        1990-01-01 00:00:00  2011-01-01 00:00:00   \n",
       "...                       ...                  ...   \n",
       "155316                    NaN                  NaN   \n",
       "155317                    NaN                  NaN   \n",
       "155318                    NaN                  NaN   \n",
       "155319                    NaN                  NaN   \n",
       "155320                    NaN                  NaN   \n",
       "\n",
       "                                                             \\\n",
       "                                          associated_labels   \n",
       "track_id                                                      \n",
       "2                                                       NaN   \n",
       "3                                                       NaN   \n",
       "5                                                       NaN   \n",
       "10        Mexican Summer, Richie Records, Woodsist, Skul...   \n",
       "20                                                      NaN   \n",
       "...                                                     ...   \n",
       "155316                                                  NaN   \n",
       "155317                                                  NaN   \n",
       "155318                                                  NaN   \n",
       "155319                                                  NaN   \n",
       "155320                                                  NaN   \n",
       "\n",
       "                                                                        \\\n",
       "                                                        bio   latitude   \n",
       "track_id                                                                 \n",
       "2         <p>A Way Of Life, A Collective of Hip-Hop from...  40.058324   \n",
       "3         <p>A Way Of Life, A Collective of Hip-Hop from...  40.058324   \n",
       "5         <p>A Way Of Life, A Collective of Hip-Hop from...  40.058324   \n",
       "10        <p><span style=\"font-family:Verdana, Geneva, A...        NaN   \n",
       "20        <p>Songs written by: Nicky Cook</p>\\n<p>VOCALS...  51.895927   \n",
       "...                                                     ...        ...   \n",
       "155316                                                  NaN        NaN   \n",
       "155317                                                  NaN        NaN   \n",
       "155318                                                  NaN        NaN   \n",
       "155319                                                  NaN        NaN   \n",
       "155320    <p>****NOTE FOR USING OUR MUSIC ON YOUTUBE****...        NaN   \n",
       "\n",
       "                                 ...  \\\n",
       "                       location  ...   \n",
       "track_id                         ...   \n",
       "2                    New Jersey  ...   \n",
       "3                    New Jersey  ...   \n",
       "5                    New Jersey  ...   \n",
       "10                          NaN  ...   \n",
       "20           Colchester England  ...   \n",
       "...                         ...  ...   \n",
       "155316               New Jersey  ...   \n",
       "155317               New Jersey  ...   \n",
       "155318               New Jersey  ...   \n",
       "155319               New Jersey  ...   \n",
       "155320    Jersey City, NJ 07302  ...   \n",
       "\n",
       "                                                             \\\n",
       "                                           related_projects   \n",
       "track_id                                                      \n",
       "2         The list of past projects is 2 long but every1...   \n",
       "3         The list of past projects is 2 long but every1...   \n",
       "5         The list of past projects is 2 long but every1...   \n",
       "10                                                      NaN   \n",
       "20                                                      NaN   \n",
       "...                                                     ...   \n",
       "155316                                                  NaN   \n",
       "155317                                                  NaN   \n",
       "155318                                                  NaN   \n",
       "155319                                                  NaN   \n",
       "155320    ** PLEASE CONNECT WITH US THROUGH FACEBOOK! WE...   \n",
       "\n",
       "                                                                      track  \\\n",
       "                                          website wikipedia_page   composer   \n",
       "track_id                                                                      \n",
       "2         http://www.AzillionRecords.blogspot.com            NaN        NaN   \n",
       "3         http://www.AzillionRecords.blogspot.com            NaN        NaN   \n",
       "5         http://www.AzillionRecords.blogspot.com            NaN        NaN   \n",
       "10                            http://kurtvile.com            NaN  Kurt Vile   \n",
       "20                                            NaN            NaN        NaN   \n",
       "...                                           ...            ...        ...   \n",
       "155316              https://spowder.bandcamp.com/            NaN        NaN   \n",
       "155317              https://spowder.bandcamp.com/            NaN        NaN   \n",
       "155318              https://spowder.bandcamp.com/            NaN        NaN   \n",
       "155319              https://spowder.bandcamp.com/            NaN        NaN   \n",
       "155320                                        NaN            NaN        NaN   \n",
       "\n",
       "                                                                            \\\n",
       "                date_recorded genre_top information language_code lyricist   \n",
       "track_id                                                                     \n",
       "2         2008-11-26 00:00:00   Hip-Hop         NaN            en      NaN   \n",
       "3         2008-11-26 00:00:00   Hip-Hop         NaN            en      NaN   \n",
       "5         2008-11-26 00:00:00   Hip-Hop         NaN            en      NaN   \n",
       "10        2008-11-26 00:00:00       Pop         NaN            en      NaN   \n",
       "20        2008-01-01 00:00:00       NaN         NaN            en      NaN   \n",
       "...                       ...       ...         ...           ...      ...   \n",
       "155316                    NaN      Rock         NaN           NaN      NaN   \n",
       "155317                    NaN      Rock         NaN           NaN      NaN   \n",
       "155318                    NaN      Rock         NaN           NaN      NaN   \n",
       "155319                    NaN      Rock         NaN           NaN      NaN   \n",
       "155320                    NaN       NaN         NaN           NaN      NaN   \n",
       "\n",
       "                    \n",
       "         publisher  \n",
       "track_id            \n",
       "2              NaN  \n",
       "3              NaN  \n",
       "5              NaN  \n",
       "10             NaN  \n",
       "20             NaN  \n",
       "...            ...  \n",
       "155316         NaN  \n",
       "155317         NaN  \n",
       "155318         NaN  \n",
       "155319         NaN  \n",
       "155320         NaN  \n",
       "\n",
       "[106574 rows x 22 columns]"
      ]
     },
     "execution_count": 15,
     "metadata": {},
     "output_type": "execute_result"
    }
   ],
   "source": [
    "high_miss_indexed = tracks[high_miss.index]\n",
    "high_miss_indexed"
   ]
  },
  {
   "cell_type": "code",
   "execution_count": null,
   "metadata": {},
   "outputs": [],
   "source": []
  },
  {
   "cell_type": "code",
   "execution_count": 16,
   "metadata": {},
   "outputs": [
    {
     "name": "stdout",
     "output_type": "stream",
     "text": [
      "                        Blues  Classical   Country  Easy Listening  \\\n",
      "Blues                1.000000  -0.003473 -0.001373       -0.000482   \n",
      "Classical           -0.003473   1.000000 -0.004614       -0.001622   \n",
      "Country             -0.001373  -0.004614  1.000000       -0.000641   \n",
      "Easy Listening      -0.000482  -0.001622 -0.000641        1.000000   \n",
      "Electronic          -0.009981  -0.033553 -0.013260       -0.004660   \n",
      "Experimental        -0.010687  -0.035926 -0.014198       -0.004990   \n",
      "Folk                -0.005283  -0.017759 -0.007019       -0.002467   \n",
      "Hip-Hop             -0.005969  -0.020064 -0.007929       -0.002787   \n",
      "Instrumental        -0.004534  -0.015241 -0.006024       -0.002117   \n",
      "International       -0.003694  -0.012417 -0.004907       -0.001725   \n",
      "Jazz                -0.002359  -0.007931 -0.003134       -0.001102   \n",
      "Old-Time / Historic -0.002324  -0.007811 -0.003087       -0.001085   \n",
      "Pop                 -0.004808  -0.016162 -0.006387       -0.002245   \n",
      "Rock                -0.012594  -0.042335 -0.016731       -0.005880   \n",
      "Soul-RnB            -0.001304  -0.004382 -0.001732       -0.000609   \n",
      "Spoken              -0.002029  -0.006821 -0.002696       -0.000947   \n",
      "(album, comments)    0.000458   0.018477 -0.003747       -0.000408   \n",
      "(album, favorites)   0.019254   0.095927 -0.003841       -0.001175   \n",
      "(album, id)         -0.029822  -0.035426 -0.014322        0.003267   \n",
      "(album, listens)     0.002375   0.047455 -0.003375       -0.000496   \n",
      "(album, tracks)     -0.006558   0.013215 -0.011766       -0.004248   \n",
      "(artist, comments)   0.011117   0.014640 -0.007815        0.004024   \n",
      "(artist, favorites)  0.006604   0.014707 -0.009115        0.001885   \n",
      "(artist, id)        -0.022929  -0.010791 -0.006291        0.000179   \n",
      "(artist, latitude)   0.004880  -0.027235 -0.005913        0.009479   \n",
      "(artist, longitude) -0.009782  -0.005328 -0.003849        0.006883   \n",
      "(track, bit_rate)   -0.014597  -0.056294 -0.005845       -0.000847   \n",
      "(track, comments)    0.019531   0.005213  0.011530       -0.001474   \n",
      "(track, duration)   -0.002083   0.011572 -0.008621        0.000562   \n",
      "(track, favorites)   0.032736   0.039119  0.000433       -0.000480   \n",
      "(track, interest)    0.025820   0.031252  0.000039       -0.000265   \n",
      "(track, listens)     0.024742   0.042563  0.000662       -0.000085   \n",
      "(track, number)     -0.008448   0.012541 -0.007850       -0.004770   \n",
      "\n",
      "                     Electronic  Experimental      Folk   Hip-Hop  \\\n",
      "Blues                 -0.009981     -0.010687 -0.005283 -0.005969   \n",
      "Classical             -0.033553     -0.035926 -0.017759 -0.020064   \n",
      "Country               -0.013260     -0.014198 -0.007019 -0.007929   \n",
      "Easy Listening        -0.004660     -0.004990 -0.002467 -0.002787   \n",
      "Electronic             1.000000     -0.103237 -0.051033 -0.057657   \n",
      "Experimental          -0.103237      1.000000 -0.054643 -0.061735   \n",
      "Folk                  -0.051033     -0.054643  1.000000 -0.030517   \n",
      "Hip-Hop               -0.057657     -0.061735 -0.030517  1.000000   \n",
      "Instrumental          -0.043798     -0.046896 -0.023182 -0.026191   \n",
      "International         -0.035682     -0.038206 -0.018886 -0.021338   \n",
      "Jazz                  -0.022790     -0.024402 -0.012062 -0.013628   \n",
      "Old-Time / Historic   -0.022446     -0.024034 -0.011880 -0.013422   \n",
      "Pop                   -0.046443     -0.049728 -0.024582 -0.027772   \n",
      "Rock                  -0.121655     -0.130260 -0.064391 -0.072748   \n",
      "Soul-RnB              -0.012593     -0.013484 -0.006665 -0.007530   \n",
      "Spoken                -0.019601     -0.020988 -0.010375 -0.011721   \n",
      "(album, comments)     -0.015821      0.011181 -0.013697 -0.011678   \n",
      "(album, favorites)    -0.013421     -0.042513 -0.006143 -0.009614   \n",
      "(album, id)           -0.032639     -0.043958 -0.033730 -0.001968   \n",
      "(album, listens)      -0.023654     -0.047653 -0.022660 -0.016307   \n",
      "(album, tracks)       -0.021634      0.147102 -0.019907 -0.018849   \n",
      "(artist, comments)    -0.024007     -0.070038  0.012757 -0.025093   \n",
      "(artist, favorites)   -0.034321     -0.072268 -0.008864 -0.026728   \n",
      "(artist, id)          -0.011742     -0.036374 -0.032638 -0.005232   \n",
      "(artist, latitude)     0.065104     -0.014127  0.012750  0.004997   \n",
      "(artist, longitude)    0.072787      0.002684 -0.043323 -0.060083   \n",
      "(track, bit_rate)      0.056016      0.010617 -0.053034  0.043304   \n",
      "(track, comments)      0.006755     -0.021944 -0.004668  0.002708   \n",
      "(track, duration)     -0.014309      0.092303 -0.025236 -0.045637   \n",
      "(track, favorites)     0.008896     -0.061834 -0.015301 -0.007308   \n",
      "(track, interest)      0.004047     -0.044266 -0.016904 -0.008646   \n",
      "(track, listens)      -0.004037     -0.073241 -0.027409 -0.015205   \n",
      "(track, number)       -0.024226      0.108639 -0.032763 -0.004907   \n",
      "\n",
      "                     Instrumental  International  ...  (artist, id)  \\\n",
      "Blues                   -0.004534      -0.003694  ...     -0.022929   \n",
      "Classical               -0.015241      -0.012417  ...     -0.010791   \n",
      "Country                 -0.006024      -0.004907  ...     -0.006291   \n",
      "Easy Listening          -0.002117      -0.001725  ...      0.000179   \n",
      "Electronic              -0.043798      -0.035682  ...     -0.011742   \n",
      "Experimental            -0.046896      -0.038206  ...     -0.036374   \n",
      "Folk                    -0.023182      -0.018886  ...     -0.032638   \n",
      "Hip-Hop                 -0.026191      -0.021338  ...     -0.005232   \n",
      "Instrumental             1.000000      -0.016209  ...      0.072663   \n",
      "International           -0.016209       1.000000  ...     -0.011432   \n",
      "Jazz                    -0.010352      -0.008434  ...     -0.033574   \n",
      "Old-Time / Historic     -0.010196      -0.008307  ...     -0.044697   \n",
      "Pop                     -0.021097      -0.017188  ...     -0.014229   \n",
      "Rock                    -0.055263      -0.045022  ...     -0.057526   \n",
      "Soul-RnB                -0.005720      -0.004660  ...     -0.009202   \n",
      "Spoken                  -0.008904      -0.007254  ...     -0.025451   \n",
      "(album, comments)        0.028435       0.003917  ...      0.011472   \n",
      "(album, favorites)       0.050618       0.008858  ...     -0.034206   \n",
      "(album, id)              0.056553      -0.017401  ...      0.768438   \n",
      "(album, listens)         0.024165      -0.004517  ...      0.039602   \n",
      "(album, tracks)         -0.001469      -0.029204  ...      0.068765   \n",
      "(artist, comments)       0.056171      -0.017994  ...     -0.091835   \n",
      "(artist, favorites)      0.068034      -0.022547  ...     -0.075421   \n",
      "(artist, id)             0.072663      -0.011432  ...      1.000000   \n",
      "(artist, latitude)      -0.022603      -0.010706  ...     -0.037889   \n",
      "(artist, longitude)      0.034679      -0.020969  ...      0.219426   \n",
      "(track, bit_rate)        0.016256      -0.030242  ...      0.236413   \n",
      "(track, comments)        0.003215      -0.004091  ...     -0.002449   \n",
      "(track, duration)       -0.015854       0.008341  ...      0.012368   \n",
      "(track, favorites)       0.023137       0.006266  ...     -0.007465   \n",
      "(track, interest)        0.015096       0.007694  ...      0.005277   \n",
      "(track, listens)         0.033847       0.010410  ...      0.034098   \n",
      "(track, number)          0.017000      -0.025240  ...      0.073508   \n",
      "\n",
      "                     (artist, latitude)  (artist, longitude)  \\\n",
      "Blues                          0.004880            -0.009782   \n",
      "Classical                     -0.027235            -0.005328   \n",
      "Country                       -0.005913            -0.003849   \n",
      "Easy Listening                 0.009479             0.006883   \n",
      "Electronic                     0.065104             0.072787   \n",
      "Experimental                  -0.014127             0.002684   \n",
      "Folk                           0.012750            -0.043323   \n",
      "Hip-Hop                        0.004997            -0.060083   \n",
      "Instrumental                  -0.022603             0.034679   \n",
      "International                 -0.010706            -0.020969   \n",
      "Jazz                           0.013356             0.001657   \n",
      "Old-Time / Historic            0.003645            -0.005881   \n",
      "Pop                           -0.001508            -0.025439   \n",
      "Rock                          -0.048051            -0.155203   \n",
      "Soul-RnB                       0.005672            -0.041808   \n",
      "Spoken                        -0.000201            -0.032909   \n",
      "(album, comments)              0.025466            -0.007483   \n",
      "(album, favorites)             0.020981            -0.037172   \n",
      "(album, id)                    0.067412             0.122350   \n",
      "(album, listens)               0.001950            -0.043715   \n",
      "(album, tracks)                0.054672             0.005379   \n",
      "(artist, comments)             0.049910            -0.080804   \n",
      "(artist, favorites)            0.057647            -0.110325   \n",
      "(artist, id)                  -0.037889             0.219426   \n",
      "(artist, latitude)             1.000000            -0.196519   \n",
      "(artist, longitude)           -0.196519             1.000000   \n",
      "(track, bit_rate)              0.072798             0.114819   \n",
      "(track, comments)              0.000750            -0.010259   \n",
      "(track, duration)              0.009824             0.031178   \n",
      "(track, favorites)            -0.003625            -0.017006   \n",
      "(track, interest)             -0.005412            -0.011296   \n",
      "(track, listens)              -0.009335            -0.014418   \n",
      "(track, number)                0.039091             0.027742   \n",
      "\n",
      "                     (track, bit_rate)  (track, comments)  (track, duration)  \\\n",
      "Blues                        -0.014597           0.019531          -0.002083   \n",
      "Classical                    -0.056294           0.005213           0.011572   \n",
      "Country                      -0.005845           0.011530          -0.008621   \n",
      "Easy Listening               -0.000847          -0.001474           0.000562   \n",
      "Electronic                    0.056016           0.006755          -0.014309   \n",
      "Experimental                  0.010617          -0.021944           0.092303   \n",
      "Folk                         -0.053034          -0.004668          -0.025236   \n",
      "Hip-Hop                       0.043304           0.002708          -0.045637   \n",
      "Instrumental                  0.016256           0.003215          -0.015854   \n",
      "International                -0.030242          -0.004091           0.008341   \n",
      "Jazz                         -0.026188           0.000776           0.025001   \n",
      "Old-Time / Historic          -0.035361           0.000600          -0.022133   \n",
      "Pop                          -0.037228          -0.007119          -0.043663   \n",
      "Rock                         -0.054061          -0.018056          -0.067135   \n",
      "Soul-RnB                     -0.005941          -0.000384          -0.001777   \n",
      "Spoken                       -0.040061          -0.002492           0.064676   \n",
      "(album, comments)            -0.009305           0.139341          -0.037953   \n",
      "(album, favorites)            0.022761           0.163516          -0.064757   \n",
      "(album, id)                   0.276548          -0.016401           0.009395   \n",
      "(album, listens)             -0.020398           0.165222          -0.063890   \n",
      "(album, tracks)               0.038798           0.000777          -0.056935   \n",
      "(artist, comments)            0.065088           0.103271          -0.041211   \n",
      "(artist, favorites)           0.069958           0.080032          -0.051636   \n",
      "(artist, id)                  0.236413          -0.002449           0.012368   \n",
      "(artist, latitude)            0.072798           0.000750           0.009824   \n",
      "(artist, longitude)           0.114819          -0.010259           0.031178   \n",
      "(track, bit_rate)             1.000000          -0.004793          -0.000255   \n",
      "(track, comments)            -0.004793           1.000000          -0.005850   \n",
      "(track, duration)            -0.000255          -0.005850           1.000000   \n",
      "(track, favorites)            0.012425           0.480024          -0.020862   \n",
      "(track, interest)             0.006933           0.461249          -0.016854   \n",
      "(track, listens)              0.018811           0.372123          -0.022487   \n",
      "(track, number)               0.046782          -0.023603          -0.007799   \n",
      "\n",
      "                     (track, favorites)  (track, interest)  (track, listens)  \\\n",
      "Blues                          0.032736           0.025820          0.024742   \n",
      "Classical                      0.039119           0.031252          0.042563   \n",
      "Country                        0.000433           0.000039          0.000662   \n",
      "Easy Listening                -0.000480          -0.000265         -0.000085   \n",
      "Electronic                     0.008896           0.004047         -0.004037   \n",
      "Experimental                  -0.061834          -0.044266         -0.073241   \n",
      "Folk                          -0.015301          -0.016904         -0.027409   \n",
      "Hip-Hop                       -0.007308          -0.008646         -0.015205   \n",
      "Instrumental                   0.023137           0.015096          0.033847   \n",
      "International                  0.006266           0.007694          0.010410   \n",
      "Jazz                           0.016110           0.007443          0.011508   \n",
      "Old-Time / Historic            0.012763           0.005804          0.015196   \n",
      "Pop                           -0.012575          -0.012082         -0.017663   \n",
      "Rock                          -0.050419          -0.043426         -0.068225   \n",
      "Soul-RnB                       0.013720           0.006314          0.009265   \n",
      "Spoken                        -0.010659          -0.005700         -0.010625   \n",
      "(album, comments)              0.123491           0.140355          0.191619   \n",
      "(album, favorites)             0.471746           0.306329          0.425557   \n",
      "(album, id)                   -0.015705           0.003946          0.041053   \n",
      "(album, listens)               0.210613           0.231219          0.325086   \n",
      "(album, tracks)               -0.029768          -0.008293         -0.016939   \n",
      "(artist, comments)             0.341813           0.226661          0.330230   \n",
      "(artist, favorites)            0.314240           0.207262          0.310406   \n",
      "(artist, id)                  -0.007465           0.005277          0.034098   \n",
      "(artist, latitude)            -0.003625          -0.005412         -0.009335   \n",
      "(artist, longitude)           -0.017006          -0.011296         -0.014418   \n",
      "(track, bit_rate)              0.012425           0.006933          0.018811   \n",
      "(track, comments)              0.480024           0.461249          0.372123   \n",
      "(track, duration)             -0.020862          -0.016854         -0.022487   \n",
      "(track, favorites)             1.000000           0.808115          0.810129   \n",
      "(track, interest)              0.808115           1.000000          0.833730   \n",
      "(track, listens)               0.810129           0.833730          1.000000   \n",
      "(track, number)               -0.043359          -0.031507         -0.049831   \n",
      "\n",
      "                     (track, number)  \n",
      "Blues                      -0.008448  \n",
      "Classical                   0.012541  \n",
      "Country                    -0.007850  \n",
      "Easy Listening             -0.004770  \n",
      "Electronic                 -0.024226  \n",
      "Experimental                0.108639  \n",
      "Folk                       -0.032763  \n",
      "Hip-Hop                    -0.004907  \n",
      "Instrumental                0.017000  \n",
      "International              -0.025240  \n",
      "Jazz                       -0.021351  \n",
      "Old-Time / Historic        -0.035923  \n",
      "Pop                         0.106119  \n",
      "Rock                       -0.064156  \n",
      "Soul-RnB                   -0.008144  \n",
      "Spoken                     -0.004165  \n",
      "(album, comments)           0.081848  \n",
      "(album, favorites)          0.066328  \n",
      "(album, id)                 0.094970  \n",
      "(album, listens)            0.033802  \n",
      "(album, tracks)             0.554440  \n",
      "(artist, comments)         -0.042738  \n",
      "(artist, favorites)        -0.046372  \n",
      "(artist, id)                0.073508  \n",
      "(artist, latitude)          0.039091  \n",
      "(artist, longitude)         0.027742  \n",
      "(track, bit_rate)           0.046782  \n",
      "(track, comments)          -0.023603  \n",
      "(track, duration)          -0.007799  \n",
      "(track, favorites)         -0.043359  \n",
      "(track, interest)          -0.031507  \n",
      "(track, listens)           -0.049831  \n",
      "(track, number)             1.000000  \n",
      "\n",
      "[33 rows x 33 columns]\n"
     ]
    }
   ],
   "source": [
    "# Correlation of each feature with target value\n",
    "dummy_genre = pd.get_dummies(tracks.track.genre_top)\n",
    "dummy_tracks = pd.concat([dummy_genre, tracks], axis=1)\n",
    "dummy_corr = dummy_tracks.corr()\n",
    "print(dummy_corr)"
   ]
  },
  {
   "cell_type": "code",
   "execution_count": 17,
   "metadata": {},
   "outputs": [],
   "source": [
    "dummy_corr[dummy_corr == 1] = np.nan"
   ]
  },
  {
   "cell_type": "code",
   "execution_count": 18,
   "metadata": {},
   "outputs": [
    {
     "data": {
      "text/plain": [
       "Blues                  0.032736\n",
       "Classical              0.095927\n",
       "Country                0.011530\n",
       "Easy Listening         0.009479\n",
       "Electronic             0.072787\n",
       "Experimental           0.147102\n",
       "Folk                   0.012757\n",
       "Hip-Hop                0.043304\n",
       "Instrumental           0.072663\n",
       "International          0.010410\n",
       "Jazz                   0.025001\n",
       "Old-Time / Historic    0.015196\n",
       "Pop                    0.164082\n",
       "Rock                  -0.005880\n",
       "Soul-RnB               0.022353\n",
       "Spoken                 0.064676\n",
       "(album, comments)      0.817900\n",
       "(album, favorites)     0.471746\n",
       "(album, id)            0.768438\n",
       "(album, listens)       0.817900\n",
       "(album, tracks)        0.554440\n",
       "(artist, comments)     0.897151\n",
       "(artist, favorites)    0.897151\n",
       "(artist, id)           0.768438\n",
       "(artist, latitude)     0.072798\n",
       "(artist, longitude)    0.219426\n",
       "(track, bit_rate)      0.276548\n",
       "(track, comments)      0.480024\n",
       "(track, duration)      0.092303\n",
       "(track, favorites)     0.810129\n",
       "(track, interest)      0.833730\n",
       "(track, listens)       0.833730\n",
       "(track, number)        0.554440\n",
       "dtype: float64"
      ]
     },
     "execution_count": 18,
     "metadata": {},
     "output_type": "execute_result"
    }
   ],
   "source": [
    "np.max(dummy_corr)"
   ]
  },
  {
   "cell_type": "code",
   "execution_count": 19,
   "metadata": {},
   "outputs": [
    {
     "data": {
      "image/png": "[encoded data removed]",
      "text/plain": [
       "<Figure size 432x288 with 1 Axes>"
      ]
     },
     "metadata": {
      "needs_background": "light"
     },
     "output_type": "display_data"
    }
   ],
   "source": [
    "plt.hist(dummy_corr[['Rock','Experimental','Classical','Hip-Hop']], bins=20)\n",
    "plt.show()"
   ]
  },
  {
   "cell_type": "markdown",
   "metadata": {},
   "source": [
    "### Genres"
   ]
  },
  {
   "cell_type": "code",
   "execution_count": 20,
   "metadata": {},
   "outputs": [],
   "source": [
    "# Genres Table\n",
    "genres = pd.read_csv('../data/raw/fma_metadata/genres.csv',header=0)"
   ]
  },
  {
   "cell_type": "code",
   "execution_count": 21,
   "metadata": {},
   "outputs": [
    {
     "name": "stdout",
     "output_type": "stream",
     "text": [
      "(163, 5)\n"
     ]
    },
    {
     "data": {
      "image/png": "[encoded data removed]",
      "text/plain": [
       "<Figure size 432x288 with 1 Axes>"
      ]
     },
     "metadata": {
      "needs_background": "light"
     },
     "output_type": "display_data"
    }
   ],
   "source": [
    "print(genres.shape)\n",
    "plt.hist(genres['#tracks'], bins=100)\n",
    "plt.show()"
   ]
  },
  {
   "cell_type": "code",
   "execution_count": 22,
   "metadata": {},
   "outputs": [
    {
     "name": "stdout",
     "output_type": "stream",
     "text": [
      "Index(['genre_id', '#tracks', 'parent', 'title', 'top_level'], dtype='object')\n"
     ]
    }
   ],
   "source": [
    "print(genres.columns)"
   ]
  },
  {
   "cell_type": "code",
   "execution_count": 23,
   "metadata": {},
   "outputs": [
    {
     "name": "stdout",
     "output_type": "stream",
     "text": [
      "    genre_id  #tracks  parent                   title  top_level\n",
      "0          1     8693      38             Avant-Garde         38\n",
      "1          2     5271       0           International          2\n",
      "2          3     1752       0                   Blues          3\n",
      "3          4     4126       0                    Jazz          4\n",
      "4          5     4106       0               Classical          5\n",
      "..       ...      ...     ...                     ...        ...\n",
      "95       186      682      38            Sound Poetry         38\n",
      "96       187      292       5  20th Century Classical          5\n",
      "97       188      301      20                  Poetry         20\n",
      "98       189       26      65              Talk Radio         20\n",
      "99       214       40      92           North African          2\n",
      "\n",
      "[100 rows x 5 columns]\n"
     ]
    }
   ],
   "source": [
    "print(genres.head(100))"
   ]
  },
  {
   "cell_type": "code",
   "execution_count": 24,
   "metadata": {},
   "outputs": [
    {
     "name": "stderr",
     "output_type": "stream",
     "text": [
      "/usr/local/lib/python3.7/site-packages/matplotlib/image.py:397: UserWarning: Warning: converting a masked element to nan.\n",
      "  dv = (np.float64(self.norm.vmax) -\n",
      "/usr/local/lib/python3.7/site-packages/matplotlib/image.py:398: UserWarning: Warning: converting a masked element to nan.\n",
      "  np.float64(self.norm.vmin))\n",
      "/usr/local/lib/python3.7/site-packages/matplotlib/image.py:405: UserWarning: Warning: converting a masked element to nan.\n",
      "  a_min = np.float64(newmin)\n",
      "/usr/local/lib/python3.7/site-packages/matplotlib/image.py:410: UserWarning: Warning: converting a masked element to nan.\n",
      "  a_max = np.float64(newmax)\n",
      "<string>:6: UserWarning: Warning: converting a masked element to nan.\n",
      "/usr/local/lib/python3.7/site-packages/numpy/ma/core.py:711: UserWarning: Warning: converting a masked element to nan.\n",
      "  data = np.array(a, copy=False, subok=subok)\n"
     ]
    },
    {
     "data": {
      "image/png": "[encoded data removed]",
      "text/plain": [
       "<Figure size 288x288 with 1 Axes>"
      ]
     },
     "metadata": {
      "needs_background": "light"
     },
     "output_type": "display_data"
    },
    {
     "data": {
      "image/png": "[encoded data removed]",
      "text/plain": [
       "<Figure size 432x288 with 1 Axes>"
      ]
     },
     "metadata": {
      "needs_background": "light"
     },
     "output_type": "display_data"
    },
    {
     "data": {
      "image/png": "[encoded data removed]",
      "text/plain": [
       "<Figure size 432x288 with 1 Axes>"
      ]
     },
     "metadata": {
      "needs_background": "light"
     },
     "output_type": "display_data"
    }
   ],
   "source": [
    "genres_na = NaAnalysis(genres)\n",
    "genres_na.run_analysis()"
   ]
  },
  {
   "cell_type": "markdown",
   "metadata": {},
   "source": [
    "The genre table is complete, and no missing values exist."
   ]
  },
  {
   "cell_type": "code",
   "execution_count": 25,
   "metadata": {},
   "outputs": [
    {
     "name": "stdout",
     "output_type": "stream",
     "text": [
      "MultiIndex([( 'album',          'comments'),\n",
      "            ( 'album',      'date_created'),\n",
      "            ( 'album',     'date_released'),\n",
      "            ( 'album',          'engineer'),\n",
      "            ( 'album',         'favorites'),\n",
      "            ( 'album',                'id'),\n",
      "            ( 'album',       'information'),\n",
      "            ( 'album',           'listens'),\n",
      "            ( 'album',          'producer'),\n",
      "            ( 'album',              'tags'),\n",
      "            ( 'album',             'title'),\n",
      "            ( 'album',            'tracks'),\n",
      "            ( 'album',              'type'),\n",
      "            ('artist', 'active_year_begin'),\n",
      "            ('artist',   'active_year_end'),\n",
      "            ('artist', 'associated_labels'),\n",
      "            ('artist',               'bio'),\n",
      "            ('artist',          'comments'),\n",
      "            ('artist',      'date_created'),\n",
      "            ('artist',         'favorites'),\n",
      "            ('artist',                'id'),\n",
      "            ('artist',          'latitude'),\n",
      "            ('artist',          'location'),\n",
      "            ('artist',         'longitude'),\n",
      "            ('artist',           'members'),\n",
      "            ('artist',              'name'),\n",
      "            ('artist',  'related_projects'),\n",
      "            ('artist',              'tags'),\n",
      "            ('artist',           'website'),\n",
      "            ('artist',    'wikipedia_page'),\n",
      "            (   'set',             'split'),\n",
      "            (   'set',            'subset'),\n",
      "            ( 'track',          'bit_rate'),\n",
      "            ( 'track',          'comments'),\n",
      "            ( 'track',          'composer'),\n",
      "            ( 'track',      'date_created'),\n",
      "            ( 'track',     'date_recorded'),\n",
      "            ( 'track',          'duration'),\n",
      "            ( 'track',         'favorites'),\n",
      "            ( 'track',         'genre_top'),\n",
      "            ( 'track',            'genres'),\n",
      "            ( 'track',        'genres_all'),\n",
      "            ( 'track',       'information'),\n",
      "            ( 'track',          'interest'),\n",
      "            ( 'track',     'language_code'),\n",
      "            ( 'track',           'license'),\n",
      "            ( 'track',           'listens'),\n",
      "            ( 'track',          'lyricist'),\n",
      "            ( 'track',            'number'),\n",
      "            ( 'track',         'publisher'),\n",
      "            ( 'track',              'tags'),\n",
      "            ( 'track',             'title')],\n",
      "           )\n"
     ]
    },
    {
     "ename": "KeyError",
     "evalue": "'id.1'",
     "output_type": "error",
     "traceback": [
      "\u001b[0;31m---------------------------------------------------------------------------\u001b[0m",
      "\u001b[0;31mKeyError\u001b[0m                                  Traceback (most recent call last)",
      "\u001b[0;32m/usr/local/lib/python3.7/site-packages/pandas/core/indexes/base.py\u001b[0m in \u001b[0;36mget_loc\u001b[0;34m(self, key, method, tolerance)\u001b[0m\n\u001b[1;32m   2645\u001b[0m             \u001b[0;32mtry\u001b[0m\u001b[0;34m:\u001b[0m\u001b[0;34m\u001b[0m\u001b[0;34m\u001b[0m\u001b[0m\n\u001b[0;32m-> 2646\u001b[0;31m                 \u001b[0;32mreturn\u001b[0m \u001b[0mself\u001b[0m\u001b[0;34m.\u001b[0m\u001b[0m_engine\u001b[0m\u001b[0;34m.\u001b[0m\u001b[0mget_loc\u001b[0m\u001b[0;34m(\u001b[0m\u001b[0mkey\u001b[0m\u001b[0;34m)\u001b[0m\u001b[0;34m\u001b[0m\u001b[0;34m\u001b[0m\u001b[0m\n\u001b[0m\u001b[1;32m   2647\u001b[0m             \u001b[0;32mexcept\u001b[0m \u001b[0mKeyError\u001b[0m\u001b[0;34m:\u001b[0m\u001b[0;34m\u001b[0m\u001b[0;34m\u001b[0m\u001b[0m\n",
      "\u001b[0;32mpandas/_libs/index.pyx\u001b[0m in \u001b[0;36mpandas._libs.index.IndexEngine.get_loc\u001b[0;34m()\u001b[0m\n",
      "\u001b[0;32mpandas/_libs/index.pyx\u001b[0m in \u001b[0;36mpandas._libs.index.IndexEngine.get_loc\u001b[0;34m()\u001b[0m\n",
      "\u001b[0;32mpandas/_libs/hashtable_class_helper.pxi\u001b[0m in \u001b[0;36mpandas._libs.hashtable.PyObjectHashTable.get_item\u001b[0;34m()\u001b[0m\n",
      "\u001b[0;32mpandas/_libs/hashtable_class_helper.pxi\u001b[0m in \u001b[0;36mpandas._libs.hashtable.PyObjectHashTable.get_item\u001b[0;34m()\u001b[0m\n",
      "\u001b[0;31mKeyError\u001b[0m: 'id.1'",
      "\nDuring handling of the above exception, another exception occurred:\n",
      "\u001b[0;31mKeyError\u001b[0m                                  Traceback (most recent call last)",
      "\u001b[0;32m<ipython-input-25-fd64693e8e13>\u001b[0m in \u001b[0;36m<module>\u001b[0;34m\u001b[0m\n\u001b[1;32m      2\u001b[0m \u001b[0;31m# to assess how many of each genre/subgenre are present\u001b[0m\u001b[0;34m\u001b[0m\u001b[0;34m\u001b[0m\u001b[0;34m\u001b[0m\u001b[0m\n\u001b[1;32m      3\u001b[0m \u001b[0mprint\u001b[0m\u001b[0;34m(\u001b[0m\u001b[0mtracks\u001b[0m\u001b[0;34m.\u001b[0m\u001b[0mcolumns\u001b[0m\u001b[0;34m)\u001b[0m\u001b[0;34m\u001b[0m\u001b[0;34m\u001b[0m\u001b[0m\n\u001b[0;32m----> 4\u001b[0;31m \u001b[0mtracks\u001b[0m\u001b[0;34m[\u001b[0m\u001b[0;34m'id.1'\u001b[0m\u001b[0;34m]\u001b[0m\u001b[0;34m.\u001b[0m\u001b[0mhead\u001b[0m\u001b[0;34m(\u001b[0m\u001b[0;34m)\u001b[0m\u001b[0;34m\u001b[0m\u001b[0;34m\u001b[0m\u001b[0m\n\u001b[0m",
      "\u001b[0;32m/usr/local/lib/python3.7/site-packages/pandas/core/frame.py\u001b[0m in \u001b[0;36m__getitem__\u001b[0;34m(self, key)\u001b[0m\n\u001b[1;32m   2797\u001b[0m         \u001b[0;32mif\u001b[0m \u001b[0mis_single_key\u001b[0m\u001b[0;34m:\u001b[0m\u001b[0;34m\u001b[0m\u001b[0;34m\u001b[0m\u001b[0m\n\u001b[1;32m   2798\u001b[0m             \u001b[0;32mif\u001b[0m \u001b[0mself\u001b[0m\u001b[0;34m.\u001b[0m\u001b[0mcolumns\u001b[0m\u001b[0;34m.\u001b[0m\u001b[0mnlevels\u001b[0m \u001b[0;34m>\u001b[0m \u001b[0;36m1\u001b[0m\u001b[0;34m:\u001b[0m\u001b[0;34m\u001b[0m\u001b[0;34m\u001b[0m\u001b[0m\n\u001b[0;32m-> 2799\u001b[0;31m                 \u001b[0;32mreturn\u001b[0m \u001b[0mself\u001b[0m\u001b[0;34m.\u001b[0m\u001b[0m_getitem_multilevel\u001b[0m\u001b[0;34m(\u001b[0m\u001b[0mkey\u001b[0m\u001b[0;34m)\u001b[0m\u001b[0;34m\u001b[0m\u001b[0;34m\u001b[0m\u001b[0m\n\u001b[0m\u001b[1;32m   2800\u001b[0m             \u001b[0mindexer\u001b[0m \u001b[0;34m=\u001b[0m \u001b[0mself\u001b[0m\u001b[0;34m.\u001b[0m\u001b[0mcolumns\u001b[0m\u001b[0;34m.\u001b[0m\u001b[0mget_loc\u001b[0m\u001b[0;34m(\u001b[0m\u001b[0mkey\u001b[0m\u001b[0;34m)\u001b[0m\u001b[0;34m\u001b[0m\u001b[0;34m\u001b[0m\u001b[0m\n\u001b[1;32m   2801\u001b[0m             \u001b[0;32mif\u001b[0m \u001b[0mis_integer\u001b[0m\u001b[0;34m(\u001b[0m\u001b[0mindexer\u001b[0m\u001b[0;34m)\u001b[0m\u001b[0;34m:\u001b[0m\u001b[0;34m\u001b[0m\u001b[0;34m\u001b[0m\u001b[0m\n",
      "\u001b[0;32m/usr/local/lib/python3.7/site-packages/pandas/core/frame.py\u001b[0m in \u001b[0;36m_getitem_multilevel\u001b[0;34m(self, key)\u001b[0m\n\u001b[1;32m   2847\u001b[0m     \u001b[0;32mdef\u001b[0m \u001b[0m_getitem_multilevel\u001b[0m\u001b[0;34m(\u001b[0m\u001b[0mself\u001b[0m\u001b[0;34m,\u001b[0m \u001b[0mkey\u001b[0m\u001b[0;34m)\u001b[0m\u001b[0;34m:\u001b[0m\u001b[0;34m\u001b[0m\u001b[0;34m\u001b[0m\u001b[0m\n\u001b[1;32m   2848\u001b[0m         \u001b[0;31m# self.columns is a MultiIndex\u001b[0m\u001b[0;34m\u001b[0m\u001b[0;34m\u001b[0m\u001b[0;34m\u001b[0m\u001b[0m\n\u001b[0;32m-> 2849\u001b[0;31m         \u001b[0mloc\u001b[0m \u001b[0;34m=\u001b[0m \u001b[0mself\u001b[0m\u001b[0;34m.\u001b[0m\u001b[0mcolumns\u001b[0m\u001b[0;34m.\u001b[0m\u001b[0mget_loc\u001b[0m\u001b[0;34m(\u001b[0m\u001b[0mkey\u001b[0m\u001b[0;34m)\u001b[0m\u001b[0;34m\u001b[0m\u001b[0;34m\u001b[0m\u001b[0m\n\u001b[0m\u001b[1;32m   2850\u001b[0m         \u001b[0;32mif\u001b[0m \u001b[0misinstance\u001b[0m\u001b[0;34m(\u001b[0m\u001b[0mloc\u001b[0m\u001b[0;34m,\u001b[0m \u001b[0;34m(\u001b[0m\u001b[0mslice\u001b[0m\u001b[0;34m,\u001b[0m \u001b[0mSeries\u001b[0m\u001b[0;34m,\u001b[0m \u001b[0mnp\u001b[0m\u001b[0;34m.\u001b[0m\u001b[0mndarray\u001b[0m\u001b[0;34m,\u001b[0m \u001b[0mIndex\u001b[0m\u001b[0;34m)\u001b[0m\u001b[0;34m)\u001b[0m\u001b[0;34m:\u001b[0m\u001b[0;34m\u001b[0m\u001b[0;34m\u001b[0m\u001b[0m\n\u001b[1;32m   2851\u001b[0m             \u001b[0mnew_columns\u001b[0m \u001b[0;34m=\u001b[0m \u001b[0mself\u001b[0m\u001b[0;34m.\u001b[0m\u001b[0mcolumns\u001b[0m\u001b[0;34m[\u001b[0m\u001b[0mloc\u001b[0m\u001b[0;34m]\u001b[0m\u001b[0;34m\u001b[0m\u001b[0;34m\u001b[0m\u001b[0m\n",
      "\u001b[0;32m/usr/local/lib/python3.7/site-packages/pandas/core/indexes/multi.py\u001b[0m in \u001b[0;36mget_loc\u001b[0;34m(self, key, method)\u001b[0m\n\u001b[1;32m   2660\u001b[0m         \u001b[0;32mif\u001b[0m \u001b[0;32mnot\u001b[0m \u001b[0misinstance\u001b[0m\u001b[0;34m(\u001b[0m\u001b[0mkey\u001b[0m\u001b[0;34m,\u001b[0m \u001b[0;34m(\u001b[0m\u001b[0mtuple\u001b[0m\u001b[0;34m,\u001b[0m \u001b[0mlist\u001b[0m\u001b[0;34m)\u001b[0m\u001b[0;34m)\u001b[0m\u001b[0;34m:\u001b[0m\u001b[0;34m\u001b[0m\u001b[0;34m\u001b[0m\u001b[0m\n\u001b[1;32m   2661\u001b[0m             \u001b[0;31m# not including list here breaks some indexing, xref #30892\u001b[0m\u001b[0;34m\u001b[0m\u001b[0;34m\u001b[0m\u001b[0;34m\u001b[0m\u001b[0m\n\u001b[0;32m-> 2662\u001b[0;31m             \u001b[0mloc\u001b[0m \u001b[0;34m=\u001b[0m \u001b[0mself\u001b[0m\u001b[0;34m.\u001b[0m\u001b[0m_get_level_indexer\u001b[0m\u001b[0;34m(\u001b[0m\u001b[0mkey\u001b[0m\u001b[0;34m,\u001b[0m \u001b[0mlevel\u001b[0m\u001b[0;34m=\u001b[0m\u001b[0;36m0\u001b[0m\u001b[0;34m)\u001b[0m\u001b[0;34m\u001b[0m\u001b[0;34m\u001b[0m\u001b[0m\n\u001b[0m\u001b[1;32m   2663\u001b[0m             \u001b[0;32mreturn\u001b[0m \u001b[0m_maybe_to_slice\u001b[0m\u001b[0;34m(\u001b[0m\u001b[0mloc\u001b[0m\u001b[0;34m)\u001b[0m\u001b[0;34m\u001b[0m\u001b[0;34m\u001b[0m\u001b[0m\n\u001b[1;32m   2664\u001b[0m \u001b[0;34m\u001b[0m\u001b[0m\n",
      "\u001b[0;32m/usr/local/lib/python3.7/site-packages/pandas/core/indexes/multi.py\u001b[0m in \u001b[0;36m_get_level_indexer\u001b[0;34m(self, key, level, indexer)\u001b[0m\n\u001b[1;32m   2927\u001b[0m         \u001b[0;32melse\u001b[0m\u001b[0;34m:\u001b[0m\u001b[0;34m\u001b[0m\u001b[0;34m\u001b[0m\u001b[0m\n\u001b[1;32m   2928\u001b[0m \u001b[0;34m\u001b[0m\u001b[0m\n\u001b[0;32m-> 2929\u001b[0;31m             \u001b[0mcode\u001b[0m \u001b[0;34m=\u001b[0m \u001b[0mself\u001b[0m\u001b[0;34m.\u001b[0m\u001b[0m_get_loc_single_level_index\u001b[0m\u001b[0;34m(\u001b[0m\u001b[0mlevel_index\u001b[0m\u001b[0;34m,\u001b[0m \u001b[0mkey\u001b[0m\u001b[0;34m)\u001b[0m\u001b[0;34m\u001b[0m\u001b[0;34m\u001b[0m\u001b[0m\n\u001b[0m\u001b[1;32m   2930\u001b[0m \u001b[0;34m\u001b[0m\u001b[0m\n\u001b[1;32m   2931\u001b[0m             \u001b[0;32mif\u001b[0m \u001b[0mlevel\u001b[0m \u001b[0;34m>\u001b[0m \u001b[0;36m0\u001b[0m \u001b[0;32mor\u001b[0m \u001b[0mself\u001b[0m\u001b[0;34m.\u001b[0m\u001b[0mlexsort_depth\u001b[0m \u001b[0;34m==\u001b[0m \u001b[0;36m0\u001b[0m\u001b[0;34m:\u001b[0m\u001b[0;34m\u001b[0m\u001b[0;34m\u001b[0m\u001b[0m\n",
      "\u001b[0;32m/usr/local/lib/python3.7/site-packages/pandas/core/indexes/multi.py\u001b[0m in \u001b[0;36m_get_loc_single_level_index\u001b[0;34m(self, level_index, key)\u001b[0m\n\u001b[1;32m   2596\u001b[0m             \u001b[0;32mreturn\u001b[0m \u001b[0;34m-\u001b[0m\u001b[0;36m1\u001b[0m\u001b[0;34m\u001b[0m\u001b[0;34m\u001b[0m\u001b[0m\n\u001b[1;32m   2597\u001b[0m         \u001b[0;32melse\u001b[0m\u001b[0;34m:\u001b[0m\u001b[0;34m\u001b[0m\u001b[0;34m\u001b[0m\u001b[0m\n\u001b[0;32m-> 2598\u001b[0;31m             \u001b[0;32mreturn\u001b[0m \u001b[0mlevel_index\u001b[0m\u001b[0;34m.\u001b[0m\u001b[0mget_loc\u001b[0m\u001b[0;34m(\u001b[0m\u001b[0mkey\u001b[0m\u001b[0;34m)\u001b[0m\u001b[0;34m\u001b[0m\u001b[0;34m\u001b[0m\u001b[0m\n\u001b[0m\u001b[1;32m   2599\u001b[0m \u001b[0;34m\u001b[0m\u001b[0m\n\u001b[1;32m   2600\u001b[0m     \u001b[0;32mdef\u001b[0m \u001b[0mget_loc\u001b[0m\u001b[0;34m(\u001b[0m\u001b[0mself\u001b[0m\u001b[0;34m,\u001b[0m \u001b[0mkey\u001b[0m\u001b[0;34m,\u001b[0m \u001b[0mmethod\u001b[0m\u001b[0;34m=\u001b[0m\u001b[0;32mNone\u001b[0m\u001b[0;34m)\u001b[0m\u001b[0;34m:\u001b[0m\u001b[0;34m\u001b[0m\u001b[0;34m\u001b[0m\u001b[0m\n",
      "\u001b[0;32m/usr/local/lib/python3.7/site-packages/pandas/core/indexes/base.py\u001b[0m in \u001b[0;36mget_loc\u001b[0;34m(self, key, method, tolerance)\u001b[0m\n\u001b[1;32m   2646\u001b[0m                 \u001b[0;32mreturn\u001b[0m \u001b[0mself\u001b[0m\u001b[0;34m.\u001b[0m\u001b[0m_engine\u001b[0m\u001b[0;34m.\u001b[0m\u001b[0mget_loc\u001b[0m\u001b[0;34m(\u001b[0m\u001b[0mkey\u001b[0m\u001b[0;34m)\u001b[0m\u001b[0;34m\u001b[0m\u001b[0;34m\u001b[0m\u001b[0m\n\u001b[1;32m   2647\u001b[0m             \u001b[0;32mexcept\u001b[0m \u001b[0mKeyError\u001b[0m\u001b[0;34m:\u001b[0m\u001b[0;34m\u001b[0m\u001b[0;34m\u001b[0m\u001b[0m\n\u001b[0;32m-> 2648\u001b[0;31m                 \u001b[0;32mreturn\u001b[0m \u001b[0mself\u001b[0m\u001b[0;34m.\u001b[0m\u001b[0m_engine\u001b[0m\u001b[0;34m.\u001b[0m\u001b[0mget_loc\u001b[0m\u001b[0;34m(\u001b[0m\u001b[0mself\u001b[0m\u001b[0;34m.\u001b[0m\u001b[0m_maybe_cast_indexer\u001b[0m\u001b[0;34m(\u001b[0m\u001b[0mkey\u001b[0m\u001b[0;34m)\u001b[0m\u001b[0;34m)\u001b[0m\u001b[0;34m\u001b[0m\u001b[0;34m\u001b[0m\u001b[0m\n\u001b[0m\u001b[1;32m   2649\u001b[0m         \u001b[0mindexer\u001b[0m \u001b[0;34m=\u001b[0m \u001b[0mself\u001b[0m\u001b[0;34m.\u001b[0m\u001b[0mget_indexer\u001b[0m\u001b[0;34m(\u001b[0m\u001b[0;34m[\u001b[0m\u001b[0mkey\u001b[0m\u001b[0;34m]\u001b[0m\u001b[0;34m,\u001b[0m \u001b[0mmethod\u001b[0m\u001b[0;34m=\u001b[0m\u001b[0mmethod\u001b[0m\u001b[0;34m,\u001b[0m \u001b[0mtolerance\u001b[0m\u001b[0;34m=\u001b[0m\u001b[0mtolerance\u001b[0m\u001b[0;34m)\u001b[0m\u001b[0;34m\u001b[0m\u001b[0;34m\u001b[0m\u001b[0m\n\u001b[1;32m   2650\u001b[0m         \u001b[0;32mif\u001b[0m \u001b[0mindexer\u001b[0m\u001b[0;34m.\u001b[0m\u001b[0mndim\u001b[0m \u001b[0;34m>\u001b[0m \u001b[0;36m1\u001b[0m \u001b[0;32mor\u001b[0m \u001b[0mindexer\u001b[0m\u001b[0;34m.\u001b[0m\u001b[0msize\u001b[0m \u001b[0;34m>\u001b[0m \u001b[0;36m1\u001b[0m\u001b[0;34m:\u001b[0m\u001b[0;34m\u001b[0m\u001b[0;34m\u001b[0m\u001b[0m\n",
      "\u001b[0;32mpandas/_libs/index.pyx\u001b[0m in \u001b[0;36mpandas._libs.index.IndexEngine.get_loc\u001b[0;34m()\u001b[0m\n",
      "\u001b[0;32mpandas/_libs/index.pyx\u001b[0m in \u001b[0;36mpandas._libs.index.IndexEngine.get_loc\u001b[0;34m()\u001b[0m\n",
      "\u001b[0;32mpandas/_libs/hashtable_class_helper.pxi\u001b[0m in \u001b[0;36mpandas._libs.hashtable.PyObjectHashTable.get_item\u001b[0;34m()\u001b[0m\n",
      "\u001b[0;32mpandas/_libs/hashtable_class_helper.pxi\u001b[0m in \u001b[0;36mpandas._libs.hashtable.PyObjectHashTable.get_item\u001b[0;34m()\u001b[0m\n",
      "\u001b[0;31mKeyError\u001b[0m: 'id.1'"
     ]
    }
   ],
   "source": [
    "# We can join the genre table back to the tracks table \n",
    "# to assess how many of each genre/subgenre are present\n",
    "print(tracks.columns)\n",
    "tracks['id.1'].head()"
   ]
  },
  {
   "cell_type": "markdown",
   "metadata": {},
   "source": [
    "### Features"
   ]
  },
  {
   "cell_type": "code",
   "execution_count": null,
   "metadata": {},
   "outputs": [],
   "source": [
    "# Features Table\n",
    "features = pd.read_csv('../data/raw/fma_metadata/features.csv',index_col=0,header=[0,1,2])"
   ]
  },
  {
   "cell_type": "code",
   "execution_count": null,
   "metadata": {},
   "outputs": [],
   "source": [
    "print(features.shape)"
   ]
  },
  {
   "cell_type": "code",
   "execution_count": null,
   "metadata": {},
   "outputs": [],
   "source": [
    "for f in features.columns:\n",
    "  print(f)"
   ]
  },
  {
   "cell_type": "code",
   "execution_count": null,
   "metadata": {},
   "outputs": [],
   "source": [
    "print(features.head())"
   ]
  },
  {
   "cell_type": "code",
   "execution_count": null,
   "metadata": {},
   "outputs": [],
   "source": [
    "features_na = NaAnalysis(features)\n",
    "features_na.run_analysis()"
   ]
  },
  {
   "cell_type": "code",
   "execution_count": null,
   "metadata": {},
   "outputs": [],
   "source": [
    "print(features_na.col_na.sort_values())"
   ]
  },
  {
   "cell_type": "markdown",
   "metadata": {},
   "source": [
    "### Echonest"
   ]
  },
  {
   "cell_type": "code",
   "execution_count": null,
   "metadata": {},
   "outputs": [],
   "source": [
    "# Echonest Table\n",
    "echonest = pd.read_csv('../data/raw/fma_metadata/echonest.csv', index_col=0, header=[0,1,2])"
   ]
  },
  {
   "cell_type": "code",
   "execution_count": null,
   "metadata": {},
   "outputs": [],
   "source": [
    "print(echonest.shape)"
   ]
  },
  {
   "cell_type": "code",
   "execution_count": null,
   "metadata": {},
   "outputs": [],
   "source": [
    "for f in echonest.columns:\n",
    "    print(f)"
   ]
  },
  {
   "cell_type": "code",
   "execution_count": null,
   "metadata": {},
   "outputs": [],
   "source": [
    "print(echonest.head())"
   ]
  },
  {
   "cell_type": "code",
   "execution_count": null,
   "metadata": {},
   "outputs": [],
   "source": [
    "echonest.describe()"
   ]
  },
  {
   "cell_type": "code",
   "execution_count": null,
   "metadata": {},
   "outputs": [],
   "source": [
    "echonest_na = NaAnalysis(echonest)\n",
    "echonest_na.run_analysis()\n",
    "print(echonest_na.col_na.sort_values())"
   ]
  },
  {
   "cell_type": "markdown",
   "metadata": {},
   "source": [
    "## Analyses"
   ]
  },
  {
   "cell_type": "markdown",
   "metadata": {},
   "source": [
    "### Location Data"
   ]
  },
  {
   "cell_type": "code",
   "execution_count": null,
   "metadata": {},
   "outputs": [],
   "source": [
    "print(np.isnan(tracks.artist.latitude).sum(), \n",
    "      np.isnan(tracks.artist.longitude).sum(),\n",
    "      len(tracks))"
   ]
  },
  {
   "cell_type": "code",
   "execution_count": null,
   "metadata": {},
   "outputs": [],
   "source": [
    "import geopandas as gp\n",
    "from shapely.geometry import Point, Polygon"
   ]
  },
  {
   "cell_type": "code",
   "execution_count": null,
   "metadata": {},
   "outputs": [],
   "source": [
    "geometry = [Point(xy) for xy in zip(tracks.artist.longitude,tracks.artist.latitude)]\n",
    "crs = {'init' :'epsg:4326'}\n",
    "geo_df = gp.GeoDataFrame(tracks, crs=crs, geometry=geometry)\n",
    "geo_df.head()"
   ]
  },
  {
   "cell_type": "code",
   "execution_count": null,
   "metadata": {
    "scrolled": false
   },
   "outputs": [],
   "source": [
    "import geopandas as gp \n",
    "\n",
    "fig,ax = plt.subplots(figsize = (15,15))\n",
    "world = gp.read_file(gp.datasets.get_path('naturalearth_lowres'))\n",
    "world.plot(ax = ax, alpha = 0.5, color='grey')\n",
    "# geo_df.plot(ax=ax, markersize = 2, color = 'blue', marker='o')\n",
    "geo_df.plot(ax=ax, markersize = 2, color = 'blue', marker='o')\n",
    "plt.show()"
   ]
  },
  {
   "cell_type": "code",
   "execution_count": null,
   "metadata": {},
   "outputs": [],
   "source": [
    "fig,ax = plt.subplots(figsize = (15,15))\n",
    "sns.scatterplot(x=tracks.artist.longitude, \n",
    "                y=tracks.artist.latitude, \n",
    "                hue=tracks.track.genre_top, \n",
    "                size=0.5,\n",
    "                alpha=0.5)\n",
    "plt.show()"
   ]
  },
  {
   "cell_type": "code",
   "execution_count": null,
   "metadata": {},
   "outputs": [],
   "source": [
    "# Assign tracks regional coordinates\n",
    "\n",
    "tracks['region'] = ''\n",
    "north_america = (tracks.artist.longitude < -25) & (tracks.artist.latitude > 10)\n",
    "south_america = (tracks.artist.longitude < -25) & (tracks.artist.latitude < 10)\n",
    "europe = (tracks.artist.longitude > -25) & (tracks.artist.latitude > 25) & (tracks.artist.longitude < 50)\n",
    "africa = (tracks.artist.longitude > -10) & (tracks.artist.latitude < 25) & (tracks.artist.longitude < 50)\n",
    "asia = (tracks.artist.latitude > -15) & (tracks.artist.longitude > 50)\n",
    "australia = (tracks.artist.latitude < -15) & (tracks.artist.longitude > 100)\n",
    "\n",
    "tracks.loc[north_america,'region'] = 'NA'\n",
    "tracks.loc[south_america,'region'] = 'SA'\n",
    "tracks.loc[europe,'region'] = 'EUR'\n",
    "tracks.loc[africa,'region'] = 'AFR'\n",
    "tracks.loc[asia,'region'] = 'ASI'\n",
    "tracks.loc[australia,'region'] = 'AUS'"
   ]
  },
  {
   "cell_type": "code",
   "execution_count": null,
   "metadata": {},
   "outputs": [],
   "source": [
    "fig,ax = plt.subplots(figsize = (15,15))\n",
    "sns.scatterplot(x=tracks.artist.longitude, \n",
    "                y=tracks.artist.latitude, \n",
    "                hue=tracks.region, \n",
    "                size=0.5,\n",
    "                alpha=0.5)\n",
    "plt.show()"
   ]
  },
  {
   "cell_type": "code",
   "execution_count": null,
   "metadata": {},
   "outputs": [],
   "source": [
    "tracks.region.value_counts()"
   ]
  },
  {
   "cell_type": "markdown",
   "metadata": {},
   "source": [
    "### Genre nesting analysis"
   ]
  },
  {
   "cell_type": "code",
   "execution_count": null,
   "metadata": {},
   "outputs": [],
   "source": [
    "genres.head()"
   ]
  },
  {
   "cell_type": "code",
   "execution_count": null,
   "metadata": {},
   "outputs": [],
   "source": [
    "tracks.track.genre_top.value_counts()"
   ]
  },
  {
   "cell_type": "code",
   "execution_count": null,
   "metadata": {},
   "outputs": [],
   "source": [
    "tracks.track.genre_top.isna().sum()"
   ]
  },
  {
   "cell_type": "code",
   "execution_count": null,
   "metadata": {},
   "outputs": [],
   "source": [
    "tracks[pd.isna(tracks.track.genre_top)].track.genres"
   ]
  },
  {
   "cell_type": "markdown",
   "metadata": {},
   "source": [
    "Many of the tracks with missing genre information still seem to have genre info. However they are tagged with multiple top-level tags."
   ]
  },
  {
   "cell_type": "code",
   "execution_count": null,
   "metadata": {},
   "outputs": [],
   "source": [
    "track_genres = tracks[pd.isna(tracks.track.genre_top)].track.genres"
   ]
  },
  {
   "cell_type": "code",
   "execution_count": null,
   "metadata": {},
   "outputs": [],
   "source": [
    "# isolate top three most common genres\n",
    "genre_filter = tracks.track.genre_top.isin(['Rock','Experimental','Electronic'])\n",
    "genre_tracks = tracks.loc[genre_filter,:]"
   ]
  },
  {
   "cell_type": "code",
   "execution_count": null,
   "metadata": {},
   "outputs": [],
   "source": [
    "genre_tracks.shape"
   ]
  },
  {
   "cell_type": "markdown",
   "metadata": {},
   "source": [
    "#### Considering reduced genres correlation with expanded features"
   ]
  },
  {
   "cell_type": "code",
   "execution_count": null,
   "metadata": {},
   "outputs": [],
   "source": [
    "tracks_new = tracks.copy()\n",
    "tracks_new.columns = ['_'.join(col).strip() for col in tracks_new.columns.values]\n",
    "features_new = features.copy()\n",
    "features_new.columns = ['_'.join(col).strip() for col in features_new.columns.values]"
   ]
  },
  {
   "cell_type": "code",
   "execution_count": null,
   "metadata": {},
   "outputs": [],
   "source": [
    "tracks_merged = pd.merge(tracks_new, features_new, left_index=True, right_index=True)"
   ]
  },
  {
   "cell_type": "code",
   "execution_count": null,
   "metadata": {},
   "outputs": [],
   "source": [
    "tracks_merged.shape"
   ]
  },
  {
   "cell_type": "code",
   "execution_count": null,
   "metadata": {},
   "outputs": [],
   "source": [
    "# Correlation of each feature with target value\n",
    "dummy_genre = pd.get_dummies(tracks_merged.track_genre_top)\n",
    "dummy_tracks = pd.concat([dummy_genre, tracks_merged], axis=1)\n",
    "dummy_corr = dummy_tracks.corr()"
   ]
  },
  {
   "cell_type": "code",
   "execution_count": null,
   "metadata": {},
   "outputs": [],
   "source": [
    "dummy_corr[dummy_corr == 1] = np.nan\n",
    "np.max(dummy_corr)[0:16]"
   ]
  },
  {
   "cell_type": "code",
   "execution_count": null,
   "metadata": {},
   "outputs": [],
   "source": [
    "tracks_merged"
   ]
  },
  {
   "cell_type": "code",
   "execution_count": null,
   "metadata": {},
   "outputs": [],
   "source": [
    "import geopandas as gp\n",
    "import matplotlib.pyplot as plt\n",
    "us_states = gp.read_file('/Users/ryanswan/Downloads/states_21basic')\n"
   ]
  },
  {
   "cell_type": "markdown",
   "metadata": {},
   "source": [
    "We can plot the data for the whole world against our US map"
   ]
  },
  {
   "cell_type": "code",
   "execution_count": null,
   "metadata": {},
   "outputs": [],
   "source": [
    "ax = us_states.geometry.boundary.plot(color='gray', figsize=(10,10))\n",
    "geo_df.plot(figsize=(10,10), ax=ax)\n",
    "plt.show"
   ]
  },
  {
   "cell_type": "markdown",
   "metadata": {},
   "source": [
    "Finding data just within the united states..."
   ]
  },
  {
   "cell_type": "code",
   "execution_count": null,
   "metadata": {},
   "outputs": [],
   "source": [
    "united_states = us_states.geometry.unary_union\n",
    "in_us_boundary = geo_df.geometry.within(united_states)\n",
    "inside_us = geo_df[in_us_boundary]"
   ]
  },
  {
   "cell_type": "markdown",
   "metadata": {},
   "source": [
    "Roughly 20% of all tracks are in the US"
   ]
  },
  {
   "cell_type": "code",
   "execution_count": null,
   "metadata": {},
   "outputs": [],
   "source": [
    "inside_us.shape"
   ]
  },
  {
   "cell_type": "code",
   "execution_count": null,
   "metadata": {},
   "outputs": [],
   "source": [
    "ax = us_states.geometry.boundary.plot(color='gray', figsize=(10,10))\n",
    "inside_us.plot(figsize=(10,10), ax=ax)\n",
    "plt.show()"
   ]
  },
  {
   "cell_type": "code",
   "execution_count": null,
   "metadata": {},
   "outputs": [],
   "source": [
    "# For simplicity of plotting we skip Hawaii and Alaska\n",
    "continental_us = us_states[~us_states.STATE_NAME.isin(['Alaska','Hawaii'])]\n",
    "in_cont_us = inside_us[inside_us.geometry.within(continental_us.geometry.unary_union)]"
   ]
  },
  {
   "cell_type": "code",
   "execution_count": null,
   "metadata": {},
   "outputs": [],
   "source": [
    "ax = continental_us.geometry.boundary.plot(color='gray', figsize=(10,10))\n",
    "in_cont_us.plot(figsize=(10,10), ax=ax)\n",
    "plt.show()"
   ]
  },
  {
   "cell_type": "code",
   "execution_count": null,
   "metadata": {},
   "outputs": [],
   "source": [
    "# # Binning points by region in shapefile\n",
    "# # From: https://stackoverflow.com/questions/7861196/check-if-a-geopoint-with-latitude-and-longitude-is-within-a-shapefile\n",
    "\n",
    "# from gdal import ogr\n",
    "# from IPython import embed\n",
    "# import sys\n",
    "\n",
    "# drv = ogr.GetDriverByName('ESRI Shapefile')\n",
    "# ds_in = drv.Open('/Users/ryanswan/Downloads/states_21basic/states.shp')\n",
    "# lyr_in = ds_in.GetLayer(0)\n",
    "# print(lyr_in.GetFeatureCount())\n",
    "\n",
    "# for i in range(1,lyr_in.GetFeatureCount()):\n",
    "#     field = lyr_in.GetFeature(i)\n",
    "#     print(field)\n",
    "\n",
    "print(in_cont_us)\n"
   ]
  },
  {
   "cell_type": "code",
   "execution_count": null,
   "metadata": {},
   "outputs": [],
   "source": [
    "from shapely.geometry import Point\n",
    "\n",
    "artists = list(zip(in_cont_us.artist.longitude, in_cont_us.artist.latitude))\n",
    "\n",
    "print(continental_us.columns)\n",
    "\n",
    "output = []\n",
    "for artist in artists:\n",
    "    coord = Point(artist)\n",
    "    which_state = continental_us.geometry.contains(coord)\n",
    "    output.append(continental_us[which_state].STATE_NAME.values[0])"
   ]
  },
  {
   "cell_type": "code",
   "execution_count": null,
   "metadata": {},
   "outputs": [],
   "source": [
    "from collections import Counter\n",
    "state_count = Counter(output)"
   ]
  },
  {
   "cell_type": "code",
   "execution_count": null,
   "metadata": {},
   "outputs": [],
   "source": [
    "state_vals = pd.DataFrame.from_dict(state_count, orient='index').reset_index()\n",
    "state_vals = state_vals.rename(columns={'index':'state', 0:'n_artists'})\n",
    "# state_vals\n",
    "us_chloropleth = continental_us.merge(state_vals, left_on='STATE_NAME', right_on='state')"
   ]
  },
  {
   "cell_type": "code",
   "execution_count": null,
   "metadata": {},
   "outputs": [],
   "source": [
    "us_chloropleth.plot(column='n_artists', figsize=(40,40), legend=True)\n",
    "plt.show()"
   ]
  },
  {
   "cell_type": "markdown",
   "metadata": {},
   "source": [
    "Let's wrap some of these analyses in functions..."
   ]
  },
  {
   "cell_type": "code",
   "execution_count": null,
   "metadata": {},
   "outputs": [],
   "source": [
    "def filter_pts_by_boundary(geo_df, shapefile):\n",
    "    '''Return only points inside the specified shapefile boundary'''\n",
    "    boundary = shapefile.geometry.unary_union\n",
    "    in_boundary = geo_df.geometry.within(boundary)\n",
    "    return geo_df[in_boundary]\n",
    "\n",
    "def assign_pt_to_region(long, lat, shapefile, field):\n",
    "    '''Check for membership in shapefile polygons and return a count of points'''\n",
    "    output = []\n",
    "    coord = list(zip(long, lat))\n",
    "    for c in coord:\n",
    "        c = Point(c)\n",
    "        which_shape = shapefile.geometry.contains(c)\n",
    "        output.append(shapefile[which_shape][field].values[0])\n",
    "    return output\n",
    "\n",
    "def add_chloro_column(region_list, shapefile, field):\n",
    "    '''Add count of values to shapefile regions'''\n",
    "    val_count = Counter(region_list)\n",
    "    merge_col = pd.DataFrame.from_dict(val_count, orient='index').reset_index()\n",
    "    merge_col = merge_col.rename(columns={'index':'merge_field', 0:'vals'})\n",
    "    new_geo_df = shapefile.merge(merge_col, left_on=field, right_on='merge_field')\n",
    "    return new_geo_df\n"
   ]
  },
  {
   "cell_type": "code",
   "execution_count": null,
   "metadata": {},
   "outputs": [],
   "source": [
    "# test = filter_pts_by_boundary(geo_df=geo_df, shapefile=continental_us)\n",
    "# test2 = assign_pt_to_region(test.artist.longitude, test.artist.latitude, continental_us, 'STATE_NAME')\n",
    "test3 = add_chloro_column(test2, continental_us, 'STATE_NAME')\n",
    "test3.plot(column='vals', figsize=(40,40), legend=True)"
   ]
  },
  {
   "cell_type": "code",
   "execution_count": null,
   "metadata": {},
   "outputs": [],
   "source": [
    "europe = gp.read_file('/Users/ryanswan/Downloads/europe')\n",
    "europe.geometry.boundary.plot(color='gray', figsize=(40,40))"
   ]
  },
  {
   "cell_type": "markdown",
   "metadata": {},
   "source": [
    "We can use our functions described above to make our chloropleth map..."
   ]
  },
  {
   "cell_type": "code",
   "execution_count": null,
   "metadata": {},
   "outputs": [],
   "source": [
    "euro_pts = filter_pts_by_boundary(geo_df, europe)\n",
    "euro_pt_membership = assign_pt_to_region(euro_pts.artist.longitude, \n",
    "                                         euro_pts.artist.latitude, \n",
    "                                         europe,\n",
    "                                         'CNTRY_NAME')\n",
    "euro_chlor = add_chloro_column(euro_pt_membership, europe, 'CNTRY_NAME')"
   ]
  },
  {
   "cell_type": "code",
   "execution_count": null,
   "metadata": {},
   "outputs": [],
   "source": [
    "euro_chlor.plot(column='vals', legend=True, figsize=(40,40))"
   ]
  },
  {
   "cell_type": "markdown",
   "metadata": {},
   "source": [
    "### Crosstab Comparisons"
   ]
  },
  {
   "cell_type": "code",
   "execution_count": null,
   "metadata": {},
   "outputs": [],
   "source": [
    "pd.crosstab(genre_tracks.region, genre_tracks.track.genre_top)"
   ]
  },
  {
   "cell_type": "markdown",
   "metadata": {},
   "source": [
    "We can see that America has much more rock while Europe has much more electronic music."
   ]
  },
  {
   "cell_type": "code",
   "execution_count": null,
   "metadata": {},
   "outputs": [],
   "source": [
    "pd.crosstab(genre_tracks.region, genre_tracks.track.genre_top, normalize='index')"
   ]
  },
  {
   "cell_type": "code",
   "execution_count": null,
   "metadata": {},
   "outputs": [],
   "source": []
  },
  {
   "cell_type": "code",
   "execution_count": null,
   "metadata": {},
   "outputs": [],
   "source": [
    "tracks.columns"
   ]
  },
  {
   "cell_type": "code",
   "execution_count": null,
   "metadata": {},
   "outputs": [],
   "source": []
  }
 ],
 "metadata": {
  "kernelspec": {
   "display_name": "Python 3",
   "language": "python",
   "name": "python3"
  },
  "language_info": {
   "codemirror_mode": {
    "name": "ipython",
    "version": 3
   },
   "file_extension": ".py",
   "mimetype": "text/x-python",
   "name": "python",
   "nbconvert_exporter": "python",
   "pygments_lexer": "ipython3",
   "version": "3.7.5"
  }
 },
 "nbformat": 4,
 "nbformat_minor": 2
}
